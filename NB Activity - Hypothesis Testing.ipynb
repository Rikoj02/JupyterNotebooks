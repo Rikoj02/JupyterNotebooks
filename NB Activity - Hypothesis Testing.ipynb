{
 "cells": [
  {
   "cell_type": "markdown",
   "id": "197661aa-f0de-4640-a710-2e1214329c17",
   "metadata": {},
   "source": [
    "# Hypothesis Testing\n",
    "## Data Analytics Activity W8\n",
    "\n",
    "*Juan Rico G. Asuncion* | *B37* | *01/20/2024*"
   ]
  },
  {
   "cell_type": "markdown",
   "id": "bd66214d-e470-4aca-879d-5cf5e5c3b477",
   "metadata": {},
   "source": [
    "### Instructions\n",
    "\n",
    "Using the given dataset provided, perform the following tasks using the given libraries specified below."
   ]
  },
  {
   "cell_type": "code",
   "execution_count": 1,
   "id": "19a056e8-ac94-4e78-a97a-1591f4fff430",
   "metadata": {},
   "outputs": [],
   "source": [
    "import numpy as np\n",
    "import pandas as pd\n",
    "import matplotlib.pyplot as plt\n",
    "import seaborn as sns"
   ]
  },
  {
   "cell_type": "markdown",
   "id": "6111c5d1-d022-4b81-85be-c3d90769a207",
   "metadata": {},
   "source": [
    "### Dataset Details\n",
    "\n",
    "A telecommunications network provided a sample of their customer data containing details whether the person churned i.e. stopped using their subscription services or not. Subscription-related information is provided as well as the demographics for each customer. You are advised to perform statistical tests to provide interesting results."
   ]
  },
  {
   "cell_type": "code",
   "execution_count": 2,
   "id": "74800a6f-06df-44b9-bf51-29418630adbc",
   "metadata": {},
   "outputs": [],
   "source": [
    "telecom_data = pd.read_csv('telecom_users.csv')"
   ]
  },
  {
   "cell_type": "code",
   "execution_count": 3,
   "id": "cf856d8d-3068-4a9e-9065-fee49d9751ea",
   "metadata": {},
   "outputs": [
    {
     "data": {
      "text/html": [
       "<div>\n",
       "<style scoped>\n",
       "    .dataframe tbody tr th:only-of-type {\n",
       "        vertical-align: middle;\n",
       "    }\n",
       "\n",
       "    .dataframe tbody tr th {\n",
       "        vertical-align: top;\n",
       "    }\n",
       "\n",
       "    .dataframe thead th {\n",
       "        text-align: right;\n",
       "    }\n",
       "</style>\n",
       "<table border=\"1\" class=\"dataframe\">\n",
       "  <thead>\n",
       "    <tr style=\"text-align: right;\">\n",
       "      <th></th>\n",
       "      <th>customerID</th>\n",
       "      <th>gender</th>\n",
       "      <th>SeniorCitizen</th>\n",
       "      <th>Partner</th>\n",
       "      <th>Dependents</th>\n",
       "      <th>tenure</th>\n",
       "      <th>PhoneService</th>\n",
       "      <th>MultipleLines</th>\n",
       "      <th>InternetService</th>\n",
       "      <th>OnlineSecurity</th>\n",
       "      <th>...</th>\n",
       "      <th>DeviceProtection</th>\n",
       "      <th>TechSupport</th>\n",
       "      <th>StreamingTV</th>\n",
       "      <th>StreamingMovies</th>\n",
       "      <th>Contract</th>\n",
       "      <th>PaperlessBilling</th>\n",
       "      <th>PaymentMethod</th>\n",
       "      <th>MonthlyCharges</th>\n",
       "      <th>TotalCharges</th>\n",
       "      <th>Churn</th>\n",
       "    </tr>\n",
       "  </thead>\n",
       "  <tbody>\n",
       "    <tr>\n",
       "      <th>0</th>\n",
       "      <td>7010-BRBUU</td>\n",
       "      <td>Male</td>\n",
       "      <td>0</td>\n",
       "      <td>Yes</td>\n",
       "      <td>Yes</td>\n",
       "      <td>72</td>\n",
       "      <td>Yes</td>\n",
       "      <td>Yes</td>\n",
       "      <td>No</td>\n",
       "      <td>No internet service</td>\n",
       "      <td>...</td>\n",
       "      <td>No internet service</td>\n",
       "      <td>No internet service</td>\n",
       "      <td>No internet service</td>\n",
       "      <td>No internet service</td>\n",
       "      <td>Two year</td>\n",
       "      <td>No</td>\n",
       "      <td>Credit card (automatic)</td>\n",
       "      <td>24.10</td>\n",
       "      <td>1734.65</td>\n",
       "      <td>No</td>\n",
       "    </tr>\n",
       "    <tr>\n",
       "      <th>1</th>\n",
       "      <td>9688-YGXVR</td>\n",
       "      <td>Female</td>\n",
       "      <td>0</td>\n",
       "      <td>No</td>\n",
       "      <td>No</td>\n",
       "      <td>44</td>\n",
       "      <td>Yes</td>\n",
       "      <td>No</td>\n",
       "      <td>Fiber optic</td>\n",
       "      <td>No</td>\n",
       "      <td>...</td>\n",
       "      <td>Yes</td>\n",
       "      <td>No</td>\n",
       "      <td>Yes</td>\n",
       "      <td>No</td>\n",
       "      <td>Month-to-month</td>\n",
       "      <td>Yes</td>\n",
       "      <td>Credit card (automatic)</td>\n",
       "      <td>88.15</td>\n",
       "      <td>3973.2</td>\n",
       "      <td>No</td>\n",
       "    </tr>\n",
       "    <tr>\n",
       "      <th>2</th>\n",
       "      <td>9286-DOJGF</td>\n",
       "      <td>Female</td>\n",
       "      <td>1</td>\n",
       "      <td>Yes</td>\n",
       "      <td>No</td>\n",
       "      <td>38</td>\n",
       "      <td>Yes</td>\n",
       "      <td>Yes</td>\n",
       "      <td>Fiber optic</td>\n",
       "      <td>No</td>\n",
       "      <td>...</td>\n",
       "      <td>No</td>\n",
       "      <td>No</td>\n",
       "      <td>No</td>\n",
       "      <td>No</td>\n",
       "      <td>Month-to-month</td>\n",
       "      <td>Yes</td>\n",
       "      <td>Bank transfer (automatic)</td>\n",
       "      <td>74.95</td>\n",
       "      <td>2869.85</td>\n",
       "      <td>Yes</td>\n",
       "    </tr>\n",
       "    <tr>\n",
       "      <th>3</th>\n",
       "      <td>6994-KERXL</td>\n",
       "      <td>Male</td>\n",
       "      <td>0</td>\n",
       "      <td>No</td>\n",
       "      <td>No</td>\n",
       "      <td>4</td>\n",
       "      <td>Yes</td>\n",
       "      <td>No</td>\n",
       "      <td>DSL</td>\n",
       "      <td>No</td>\n",
       "      <td>...</td>\n",
       "      <td>No</td>\n",
       "      <td>No</td>\n",
       "      <td>No</td>\n",
       "      <td>Yes</td>\n",
       "      <td>Month-to-month</td>\n",
       "      <td>Yes</td>\n",
       "      <td>Electronic check</td>\n",
       "      <td>55.90</td>\n",
       "      <td>238.5</td>\n",
       "      <td>No</td>\n",
       "    </tr>\n",
       "    <tr>\n",
       "      <th>4</th>\n",
       "      <td>2181-UAESM</td>\n",
       "      <td>Male</td>\n",
       "      <td>0</td>\n",
       "      <td>No</td>\n",
       "      <td>No</td>\n",
       "      <td>2</td>\n",
       "      <td>Yes</td>\n",
       "      <td>No</td>\n",
       "      <td>DSL</td>\n",
       "      <td>Yes</td>\n",
       "      <td>...</td>\n",
       "      <td>Yes</td>\n",
       "      <td>No</td>\n",
       "      <td>No</td>\n",
       "      <td>No</td>\n",
       "      <td>Month-to-month</td>\n",
       "      <td>No</td>\n",
       "      <td>Electronic check</td>\n",
       "      <td>53.45</td>\n",
       "      <td>119.5</td>\n",
       "      <td>No</td>\n",
       "    </tr>\n",
       "  </tbody>\n",
       "</table>\n",
       "<p>5 rows × 21 columns</p>\n",
       "</div>"
      ],
      "text/plain": [
       "   customerID  gender  SeniorCitizen Partner Dependents  tenure PhoneService  \\\n",
       "0  7010-BRBUU    Male              0     Yes        Yes      72          Yes   \n",
       "1  9688-YGXVR  Female              0      No         No      44          Yes   \n",
       "2  9286-DOJGF  Female              1     Yes         No      38          Yes   \n",
       "3  6994-KERXL    Male              0      No         No       4          Yes   \n",
       "4  2181-UAESM    Male              0      No         No       2          Yes   \n",
       "\n",
       "  MultipleLines InternetService       OnlineSecurity  ...  \\\n",
       "0           Yes              No  No internet service  ...   \n",
       "1            No     Fiber optic                   No  ...   \n",
       "2           Yes     Fiber optic                   No  ...   \n",
       "3            No             DSL                   No  ...   \n",
       "4            No             DSL                  Yes  ...   \n",
       "\n",
       "      DeviceProtection          TechSupport          StreamingTV  \\\n",
       "0  No internet service  No internet service  No internet service   \n",
       "1                  Yes                   No                  Yes   \n",
       "2                   No                   No                   No   \n",
       "3                   No                   No                   No   \n",
       "4                  Yes                   No                   No   \n",
       "\n",
       "       StreamingMovies        Contract PaperlessBilling  \\\n",
       "0  No internet service        Two year               No   \n",
       "1                   No  Month-to-month              Yes   \n",
       "2                   No  Month-to-month              Yes   \n",
       "3                  Yes  Month-to-month              Yes   \n",
       "4                   No  Month-to-month               No   \n",
       "\n",
       "               PaymentMethod MonthlyCharges  TotalCharges Churn  \n",
       "0    Credit card (automatic)          24.10       1734.65    No  \n",
       "1    Credit card (automatic)          88.15        3973.2    No  \n",
       "2  Bank transfer (automatic)          74.95       2869.85   Yes  \n",
       "3           Electronic check          55.90         238.5    No  \n",
       "4           Electronic check          53.45         119.5    No  \n",
       "\n",
       "[5 rows x 21 columns]"
      ]
     },
     "execution_count": 3,
     "metadata": {},
     "output_type": "execute_result"
    }
   ],
   "source": [
    "telecom_data.head()"
   ]
  },
  {
   "cell_type": "code",
   "execution_count": 4,
   "id": "b69bb70b-b5a2-4298-a212-b91c318b5aa1",
   "metadata": {},
   "outputs": [
    {
     "name": "stdout",
     "output_type": "stream",
     "text": [
      "<class 'pandas.core.frame.DataFrame'>\n",
      "RangeIndex: 5986 entries, 0 to 5985\n",
      "Data columns (total 21 columns):\n",
      " #   Column            Non-Null Count  Dtype  \n",
      "---  ------            --------------  -----  \n",
      " 0   customerID        5986 non-null   object \n",
      " 1   gender            5986 non-null   object \n",
      " 2   SeniorCitizen     5986 non-null   int64  \n",
      " 3   Partner           5986 non-null   object \n",
      " 4   Dependents        5986 non-null   object \n",
      " 5   tenure            5986 non-null   int64  \n",
      " 6   PhoneService      5986 non-null   object \n",
      " 7   MultipleLines     5986 non-null   object \n",
      " 8   InternetService   5986 non-null   object \n",
      " 9   OnlineSecurity    5986 non-null   object \n",
      " 10  OnlineBackup      5986 non-null   object \n",
      " 11  DeviceProtection  5986 non-null   object \n",
      " 12  TechSupport       5986 non-null   object \n",
      " 13  StreamingTV       5986 non-null   object \n",
      " 14  StreamingMovies   5986 non-null   object \n",
      " 15  Contract          5986 non-null   object \n",
      " 16  PaperlessBilling  5986 non-null   object \n",
      " 17  PaymentMethod     5986 non-null   object \n",
      " 18  MonthlyCharges    5986 non-null   float64\n",
      " 19  TotalCharges      5986 non-null   object \n",
      " 20  Churn             5986 non-null   object \n",
      "dtypes: float64(1), int64(2), object(18)\n",
      "memory usage: 982.2+ KB\n"
     ]
    }
   ],
   "source": [
    "telecom_data.info()"
   ]
  },
  {
   "cell_type": "markdown",
   "id": "76cd6b86-4dac-48eb-9573-4893aa0bd815",
   "metadata": {},
   "source": [
    "### Rubrics (For each item)\n",
    "- Null and Alternative Hypothesis Declaration (5 pts)\n",
    "- Results Accuracy (5 pts)\n",
    "- Code Execution, Formatting, and Cleanliness (5 pts)\n",
    "- Visualization (5 pts)\n",
    "- Conclusion (5 pts)\n",
    "\n",
    "Note: For all items, the number of simulations should be at least `10000`"
   ]
  },
  {
   "cell_type": "markdown",
   "id": "c422a94e-3253-471f-b465-1082d3919de3",
   "metadata": {},
   "source": [
    "#### 1. Investigate a claim where Senior Citizens with Technical Support in their subscription has an average total charge of `5300` (USD)\n",
    "\n",
    "*Note: Exclude the data points containing `NA` values in the test*"
   ]
  },
  {
   "cell_type": "markdown",
   "id": "81a6721e-0c6e-48c1-b712-ac951f574d15",
   "metadata": {},
   "source": [
    "$H_0:$The average total charge for Senior Citizens with Technical Support is equal to 5300 USD.  \n",
    "$H_1:$The average total charge for Senior Citizens with Technical Support is not equal to 5300 USD.  \n",
    "Reject $H_0$ if p-value is less than $\\alpha = 0.05$"
   ]
  },
  {
   "cell_type": "code",
   "execution_count": 5,
   "id": "8f3ffce2-ca79-4e64-b471-ab6771213130",
   "metadata": {},
   "outputs": [
    {
     "data": {
      "text/plain": [
       "0.0"
      ]
     },
     "execution_count": 5,
     "metadata": {},
     "output_type": "execute_result"
    }
   ],
   "source": [
    "seniorWithTech = telecom_data[(telecom_data['SeniorCitizen'] == 1) & (telecom_data['TechSupport'] == 'Yes')]\n",
    "totalCharge = np.array([float(i) for i in seniorWithTech['TotalCharges'].tolist()])\n",
    "bootstrapMeans = []\n",
    "\n",
    "for i in range(10000):\n",
    "    data = np.random.choice(totalCharge, 219, replace = True)\n",
    "    bootstrapMeans = np.append(bootstrapMeans, np.mean(data))\n",
    "\n",
    "pValue = sum(bootstrapMeans == 5300) / 10000\n",
    "pValue"
   ]
  },
  {
   "cell_type": "code",
   "execution_count": 6,
   "id": "9f568eed-80d2-4011-bb93-ea450f7bc419",
   "metadata": {},
   "outputs": [
    {
     "data": {
      "image/png": "[encoded data removed]",
      "text/plain": [
       "<Figure size 640x480 with 1 Axes>"
      ]
     },
     "metadata": {},
     "output_type": "display_data"
    }
   ],
   "source": [
    "ax = sns.histplot(bootstrapMeans)"
   ]
  },
  {
   "cell_type": "markdown",
   "id": "6945ef5a-743d-4eeb-af1c-da3cebfb85b6",
   "metadata": {},
   "source": [
    "Since the obtained p-value from the bootstrap is 0.0, which is less than the $\\alpha = 0.05$, we can reject the $H_0$ and conclude that the average total charge for Senior Citizens with Technical Support is not equal to 5300 USD.  "
   ]
  },
  {
   "cell_type": "markdown",
   "id": "69813c61-80e4-4037-a9f2-334890431846",
   "metadata": {},
   "source": [
    "#### 2. Verify whether customers that don't use monthly subscription contracts have an estimate monthly charge of `23` (USD)"
   ]
  },
  {
   "cell_type": "markdown",
   "id": "6db852b3-00af-4826-80fd-bb981278387e",
   "metadata": {},
   "source": [
    "$H_0:$The average total charge for Senior Citizens with Technical Support is equal to 5300 USD.  \n",
    "$H_1:$The average total charge for Senior Citizens with Technical Support is not equal to 5300 USD.  \n",
    "Reject $H_0$ if p-value is less than $\\alpha = 0.05$"
   ]
  },
  {
   "cell_type": "code",
   "execution_count": 7,
   "id": "64f332b8-3316-4b37-85bf-424343dfe2b7",
   "metadata": {},
   "outputs": [
    {
     "data": {
      "text/plain": [
       "0.0"
      ]
     },
     "execution_count": 7,
     "metadata": {},
     "output_type": "execute_result"
    }
   ],
   "source": [
    "yearlyContract = np.array([float(i) for i in telecom_data[telecom_data['Contract'] != 'Month-to-month']['MonthlyCharges']])\n",
    "bootstrapMean = []\n",
    "\n",
    "for i in range(10000):\n",
    "    data = np.random.choice(yearlyContract, len(yearlyContract), replace = True)\n",
    "    bootstrapMean = np.append(bootstrapMean, np.mean(data))\n",
    "    \n",
    "pValue = sum(bootstrapMean == 23)/10000\n",
    "pValue"
   ]
  },
  {
   "cell_type": "code",
   "execution_count": 8,
   "id": "13a73160-1e47-4a12-b077-25e5df16510a",
   "metadata": {},
   "outputs": [
    {
     "data": {
      "text/plain": [
       "<Axes: ylabel='Count'>"
      ]
     },
     "execution_count": 8,
     "metadata": {},
     "output_type": "execute_result"
    },
    {
     "data": {
      "image/png": "[encoded data removed]",
      "text/plain": [
       "<Figure size 640x480 with 1 Axes>"
      ]
     },
     "metadata": {},
     "output_type": "display_data"
    }
   ],
   "source": [
    "sns.histplot(bootstrapMean)"
   ]
  },
  {
   "cell_type": "markdown",
   "id": "1490ebc5-baa4-4096-8c12-4bd5a0c7bff1",
   "metadata": {},
   "source": [
    "Since the p-value obtained from bootstrapping is 0.0 in which is less than $\\alpha = 0.05$, we reject the $H_0$ and conclude that the average total chargefor Senior Citizens with Technical Support is not equal to 5300 USD."
   ]
  },
  {
   "cell_type": "markdown",
   "id": "f3fdc676-3319-47a0-9ccf-5047e7b3092f",
   "metadata": {},
   "source": [
    "#### 3. Check whether there is a difference in the total charges between males who churned and not churned\n",
    "\n",
    "*Note: Exclude the data points containing `NA` values in the test*"
   ]
  },
  {
   "cell_type": "markdown",
   "id": "de92b892-d71c-4495-8df1-8e8914646199",
   "metadata": {},
   "source": [
    "$H_0$: There is no significant difference in total charges between males who churned and did not churn.  \n",
    "$H_1$: There is a significant difference in total charges between males who churned and did not churn.  \n",
    "Reject $H_0$ if p-value is less than $\\alpha = 0.05$"
   ]
  },
  {
   "cell_type": "code",
   "execution_count": 9,
   "id": "6d5c5d72-999b-44f8-a1f1-d957899b3a35",
   "metadata": {},
   "outputs": [
    {
     "data": {
      "text/plain": [
       "0.0"
      ]
     },
     "execution_count": 9,
     "metadata": {},
     "output_type": "execute_result"
    }
   ],
   "source": [
    "df = telecom_data[(telecom_data['TotalCharges'] != ' ') & (telecom_data['gender'] == 'Male')]\n",
    "yes = [float(i) for i in df[df['Churn'] == 'Yes']['TotalCharges'].tolist()]\n",
    "no = [float(i) for i in df[df['Churn'] == 'No']['TotalCharges'].tolist()]\n",
    "totalCharges = yes + no\n",
    "bootstrapVar = []\n",
    "\n",
    "for i in range(10000):\n",
    "    churned = np.random.choice(totalCharges, len(yes), replace = True)\n",
    "    notChurned = np.random.choice(totalCharges, len(no), replace = True)\n",
    "    means = [churned.mean(), notChurned.mean()]\n",
    "    variance = np.var(means)\n",
    "    bootstrapVar.append(variance)\n",
    "\n",
    "observedVar = np.var([np.mean(yes), np.mean(no)])\n",
    "pValue = sum(bootstrapVar > observedVar)/10000\n",
    "pValue"
   ]
  },
  {
   "cell_type": "code",
   "execution_count": 10,
   "id": "7226c344-05b5-4b6f-a20a-67823cc59865",
   "metadata": {},
   "outputs": [
    {
     "data": {
      "text/plain": [
       "[Text(0.5, 0, 'Variance'),\n",
       " Text(0.5, 1.0, 'Variances of total charges\\n beween males who churned and not churned')]"
      ]
     },
     "execution_count": 10,
     "metadata": {},
     "output_type": "execute_result"
    },
    {
     "data": {
      "image/png": "[encoded data removed]",
      "text/plain": [
       "<Figure size 640x480 with 1 Axes>"
      ]
     },
     "metadata": {},
     "output_type": "display_data"
    }
   ],
   "source": [
    "ax = sns.histplot(bootstrapVar, bins = 50)\n",
    "ax.set(xlabel = 'Variance', title = 'Variances of total charges\\n beween males who churned and not churned')"
   ]
  },
  {
   "cell_type": "markdown",
   "id": "92a3c4c6-2775-4946-9be5-fb88648bff10",
   "metadata": {},
   "source": [
    "Since the obtained p-value from bootstrapping is 0.0, which is less than the $\\alpha = 0.05$, we can reject the $H_0$ and conclude that there is a significant difference in the total charges between males who churned and not churned."
   ]
  },
  {
   "cell_type": "markdown",
   "id": "5280dfde-436c-4f3e-bb5a-a03a6f134833",
   "metadata": {},
   "source": [
    "#### 4. Using the given dataset, provide a pair of samples that shows significant difference in their means of monthly charges\n",
    "\n",
    "In this task, you have to provide a subset sample from the dataset that characterizes their difference of means in monthly charges.\n",
    "\n",
    "For example: Difference of Monthly charges between Senior Citizens who has an internet service subscription and who hasn't.\n",
    "\n",
    "*Note: Previous items (1) (2) (3) and the given example above cannot be reused (if applicable)*"
   ]
  },
  {
   "cell_type": "markdown",
   "id": "d8adfcdd-2a1b-4192-8543-b24e20f4a4e3",
   "metadata": {},
   "source": [
    "$H_0$: There is no significant difference in monthly charges between senior citizens who are with and without partners.  \n",
    "$H_1$: There is a significant difference in monthly charges between senior citizens who are with and without partners.  \n",
    "Reject null hypothesis if p-value is less than $\\alpha = 0.05$"
   ]
  },
  {
   "cell_type": "code",
   "execution_count": 11,
   "id": "b73f6355-b66d-4c18-8e6a-a8a744f2ff29",
   "metadata": {},
   "outputs": [
    {
     "data": {
      "text/plain": [
       "0.0"
      ]
     },
     "execution_count": 11,
     "metadata": {},
     "output_type": "execute_result"
    }
   ],
   "source": [
    "df = telecom_data[telecom_data['SeniorCitizen'] == 1]\n",
    "yesPartner = [float(i) for i in df[df['Partner'] == 'Yes']['MonthlyCharges'].tolist()]\n",
    "noPartner = [float(i) for i in df[df['Partner'] == 'No']['MonthlyCharges'].tolist()]\n",
    "partner = yesPartner + noPartner\n",
    "bootstrapVar = []\n",
    "\n",
    "for i in range(10000):\n",
    "    a = np.random.choice(partner, len(yesPartner), replace = True)\n",
    "    b = np.random.choice(partner, len(noPartner), replace = True)\n",
    "    bootstrapVar = np.append(bootstrapVar, np.var([np.mean(a), np.mean(b)]))\n",
    "\n",
    "observedVar = np.var([np.mean(yesPartner), np.mean(noPartner)])\n",
    "pValue = sum(bootstrapVar > observedVar) / 10000\n",
    "pValue"
   ]
  },
  {
   "cell_type": "code",
   "execution_count": 12,
   "id": "7c036cf5-d42a-412b-abac-92af5958eef3",
   "metadata": {},
   "outputs": [
    {
     "data": {
      "text/plain": [
       "<matplotlib.lines.Line2D at 0x7fe32434cc10>"
      ]
     },
     "execution_count": 12,
     "metadata": {},
     "output_type": "execute_result"
    },
    {
     "data": {
      "image/png": "[encoded data removed]",
      "text/plain": [
       "<Figure size 640x480 with 1 Axes>"
      ]
     },
     "metadata": {},
     "output_type": "display_data"
    }
   ],
   "source": [
    "ax = sns.histplot(bootstrapVar, bins = 50)\n",
    "ax.set(xlabel = 'Variance', title = 'Bootstrapped variance between senior citizens\\n who are with and without a partner')\n",
    "ax.axvline(x = observedVar, color = 'orange')"
   ]
  },
  {
   "cell_type": "markdown",
   "id": "f47c18d9-dbe1-4c5c-8482-1c1ba8249107",
   "metadata": {},
   "source": [
    "Since the p-value is 0.0 which is less than the $\\alpha$ of 0.05, we reject the $H_0$ and conclude that there is significant difference between the monthly charges of those who has a partner and those who don't."
   ]
  }
 ],
 "metadata": {
  "kernelspec": {
   "display_name": "Python 3 (ipykernel)",
   "language": "python",
   "name": "python3"
  },
  "language_info": {
   "codemirror_mode": {
    "name": "ipython",
    "version": 3
   },
   "file_extension": ".py",
   "mimetype": "text/x-python",
   "name": "python",
   "nbconvert_exporter": "python",
   "pygments_lexer": "ipython3",
   "version": "3.10.9"
  }
 },
 "nbformat": 4,
 "nbformat_minor": 5
}
