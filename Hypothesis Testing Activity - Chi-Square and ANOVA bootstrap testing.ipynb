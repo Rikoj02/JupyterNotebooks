{
 "cells": [
  {
   "cell_type": "markdown",
   "id": "18a8c45c-8531-446e-b714-9d8fed16fd4f",
   "metadata": {},
   "source": [
    "## Chi-Square"
   ]
  },
  {
   "cell_type": "markdown",
   "id": "b8f07bc4-dbdb-4c9f-b9a6-8a35f1683f6f",
   "metadata": {},
   "source": [
    "Data set: Early Stage Diabetes Risk Prediction  \n",
    "From: https://www.kaggle.com/datasets/ishandutta/early-stage-diabetes-risk-prediction-dataset?resource=download"
   ]
  },
  {
   "cell_type": "code",
   "execution_count": 1,
   "id": "d1e0162c-9089-4e77-8af9-4e61b239c278",
   "metadata": {
    "tags": []
   },
   "outputs": [],
   "source": [
    "\n",
    "\n",
    "\n",
    "\n",
    "import numpy as np\n",
    "import pandas as pd\n",
    "import matplotlib.pyplot as plt\n",
    "import seaborn as sns\n",
    "from scipy.stats import chi2_contingency"
   ]
  },
  {
   "cell_type": "code",
   "execution_count": 2,
   "id": "021f959b-d8c8-474d-8a07-37979efabc74",
   "metadata": {},
   "outputs": [
    {
     "data": {
      "text/html": [
       "<div>\n",
       "<style scoped>\n",
       "    .dataframe tbody tr th:only-of-type {\n",
       "        vertical-align: middle;\n",
       "    }\n",
       "\n",
       "    .dataframe tbody tr th {\n",
       "        vertical-align: top;\n",
       "    }\n",
       "\n",
       "    .dataframe thead th {\n",
       "        text-align: right;\n",
       "    }\n",
       "</style>\n",
       "<table border=\"1\" class=\"dataframe\">\n",
       "  <thead>\n",
       "    <tr style=\"text-align: right;\">\n",
       "      <th></th>\n",
       "      <th>Age</th>\n",
       "      <th>Gender</th>\n",
       "      <th>Polyuria</th>\n",
       "      <th>Polydipsia</th>\n",
       "      <th>sudden weight loss</th>\n",
       "      <th>weakness</th>\n",
       "      <th>Polyphagia</th>\n",
       "      <th>Genital thrush</th>\n",
       "      <th>visual blurring</th>\n",
       "      <th>Itching</th>\n",
       "      <th>Irritability</th>\n",
       "      <th>delayed healing</th>\n",
       "      <th>partial paresis</th>\n",
       "      <th>muscle stiffness</th>\n",
       "      <th>Alopecia</th>\n",
       "      <th>Obesity</th>\n",
       "      <th>class</th>\n",
       "    </tr>\n",
       "  </thead>\n",
       "  <tbody>\n",
       "    <tr>\n",
       "      <th>0</th>\n",
       "      <td>40</td>\n",
       "      <td>Male</td>\n",
       "      <td>No</td>\n",
       "      <td>Yes</td>\n",
       "      <td>No</td>\n",
       "      <td>Yes</td>\n",
       "      <td>No</td>\n",
       "      <td>No</td>\n",
       "      <td>No</td>\n",
       "      <td>Yes</td>\n",
       "      <td>No</td>\n",
       "      <td>Yes</td>\n",
       "      <td>No</td>\n",
       "      <td>Yes</td>\n",
       "      <td>Yes</td>\n",
       "      <td>Yes</td>\n",
       "      <td>Positive</td>\n",
       "    </tr>\n",
       "    <tr>\n",
       "      <th>1</th>\n",
       "      <td>58</td>\n",
       "      <td>Male</td>\n",
       "      <td>No</td>\n",
       "      <td>No</td>\n",
       "      <td>No</td>\n",
       "      <td>Yes</td>\n",
       "      <td>No</td>\n",
       "      <td>No</td>\n",
       "      <td>Yes</td>\n",
       "      <td>No</td>\n",
       "      <td>No</td>\n",
       "      <td>No</td>\n",
       "      <td>Yes</td>\n",
       "      <td>No</td>\n",
       "      <td>Yes</td>\n",
       "      <td>No</td>\n",
       "      <td>Positive</td>\n",
       "    </tr>\n",
       "    <tr>\n",
       "      <th>2</th>\n",
       "      <td>41</td>\n",
       "      <td>Male</td>\n",
       "      <td>Yes</td>\n",
       "      <td>No</td>\n",
       "      <td>No</td>\n",
       "      <td>Yes</td>\n",
       "      <td>Yes</td>\n",
       "      <td>No</td>\n",
       "      <td>No</td>\n",
       "      <td>Yes</td>\n",
       "      <td>No</td>\n",
       "      <td>Yes</td>\n",
       "      <td>No</td>\n",
       "      <td>Yes</td>\n",
       "      <td>Yes</td>\n",
       "      <td>No</td>\n",
       "      <td>Positive</td>\n",
       "    </tr>\n",
       "    <tr>\n",
       "      <th>3</th>\n",
       "      <td>45</td>\n",
       "      <td>Male</td>\n",
       "      <td>No</td>\n",
       "      <td>No</td>\n",
       "      <td>Yes</td>\n",
       "      <td>Yes</td>\n",
       "      <td>Yes</td>\n",
       "      <td>Yes</td>\n",
       "      <td>No</td>\n",
       "      <td>Yes</td>\n",
       "      <td>No</td>\n",
       "      <td>Yes</td>\n",
       "      <td>No</td>\n",
       "      <td>No</td>\n",
       "      <td>No</td>\n",
       "      <td>No</td>\n",
       "      <td>Positive</td>\n",
       "    </tr>\n",
       "    <tr>\n",
       "      <th>4</th>\n",
       "      <td>60</td>\n",
       "      <td>Male</td>\n",
       "      <td>Yes</td>\n",
       "      <td>Yes</td>\n",
       "      <td>Yes</td>\n",
       "      <td>Yes</td>\n",
       "      <td>Yes</td>\n",
       "      <td>No</td>\n",
       "      <td>Yes</td>\n",
       "      <td>Yes</td>\n",
       "      <td>Yes</td>\n",
       "      <td>Yes</td>\n",
       "      <td>Yes</td>\n",
       "      <td>Yes</td>\n",
       "      <td>Yes</td>\n",
       "      <td>Yes</td>\n",
       "      <td>Positive</td>\n",
       "    </tr>\n",
       "  </tbody>\n",
       "</table>\n",
       "</div>"
      ],
      "text/plain": [
       "   Age Gender Polyuria Polydipsia sudden weight loss weakness Polyphagia  \\\n",
       "0   40   Male       No        Yes                 No      Yes         No   \n",
       "1   58   Male       No         No                 No      Yes         No   \n",
       "2   41   Male      Yes         No                 No      Yes        Yes   \n",
       "3   45   Male       No         No                Yes      Yes        Yes   \n",
       "4   60   Male      Yes        Yes                Yes      Yes        Yes   \n",
       "\n",
       "  Genital thrush visual blurring Itching Irritability delayed healing  \\\n",
       "0             No              No     Yes           No             Yes   \n",
       "1             No             Yes      No           No              No   \n",
       "2             No              No     Yes           No             Yes   \n",
       "3            Yes              No     Yes           No             Yes   \n",
       "4             No             Yes     Yes          Yes             Yes   \n",
       "\n",
       "  partial paresis muscle stiffness Alopecia Obesity     class  \n",
       "0              No              Yes      Yes     Yes  Positive  \n",
       "1             Yes               No      Yes      No  Positive  \n",
       "2              No              Yes      Yes      No  Positive  \n",
       "3              No               No       No      No  Positive  \n",
       "4             Yes              Yes      Yes     Yes  Positive  "
      ]
     },
     "execution_count": 2,
     "metadata": {},
     "output_type": "execute_result"
    }
   ],
   "source": [
    "df = pd.read_csv('diabetes_data_upload.csv')\n",
    "df.head(5)"
   ]
  },
  {
   "cell_type": "code",
   "execution_count": 3,
   "id": "a061c677-f2b5-4dcc-9981-effbb735dba5",
   "metadata": {},
   "outputs": [
    {
     "name": "stdout",
     "output_type": "stream",
     "text": [
      "<class 'pandas.core.frame.DataFrame'>\n",
      "RangeIndex: 520 entries, 0 to 519\n",
      "Data columns (total 17 columns):\n",
      " #   Column              Non-Null Count  Dtype \n",
      "---  ------              --------------  ----- \n",
      " 0   Age                 520 non-null    int64 \n",
      " 1   Gender              520 non-null    object\n",
      " 2   Polyuria            520 non-null    object\n",
      " 3   Polydipsia          520 non-null    object\n",
      " 4   sudden weight loss  520 non-null    object\n",
      " 5   weakness            520 non-null    object\n",
      " 6   Polyphagia          520 non-null    object\n",
      " 7   Genital thrush      520 non-null    object\n",
      " 8   visual blurring     520 non-null    object\n",
      " 9   Itching             520 non-null    object\n",
      " 10  Irritability        520 non-null    object\n",
      " 11  delayed healing     520 non-null    object\n",
      " 12  partial paresis     520 non-null    object\n",
      " 13  muscle stiffness    520 non-null    object\n",
      " 14  Alopecia            520 non-null    object\n",
      " 15  Obesity             520 non-null    object\n",
      " 16  class               520 non-null    object\n",
      "dtypes: int64(1), object(16)\n",
      "memory usage: 69.2+ KB\n"
     ]
    }
   ],
   "source": [
    "df.info()"
   ]
  },
  {
   "cell_type": "code",
   "execution_count": 4,
   "id": "c62dae9a-1be2-4351-b130-9daddf7e407b",
   "metadata": {},
   "outputs": [],
   "source": [
    "dfsubWL = df.loc[0:,'sudden weight loss']\n",
    "dfsubWL = dfsubWL.replace('Yes', 0)\n",
    "dfsubWL = dfsubWL.replace('No', 1)\n",
    "\n",
    "dfsubG = df.loc[0:, 'weakness']\n",
    "dfsubG = dfsubG.replace('Yes', 0)\n",
    "dfsubG = dfsubG.replace('No', 1)\n",
    "\n",
    "dfsubWL = dfsubWL.to_numpy()\n",
    "dfsubG = dfsubG.to_numpy()"
   ]
  },
  {
   "cell_type": "markdown",
   "id": "928d74d3-2384-4120-8297-f80a5d116177",
   "metadata": {},
   "source": [
    "We will try to identify whether there is a significant relationship between sudden weight loss and weakness by using the dataframe above, and using the Chi - squared method.\n",
    "\n",
    "$H_0$: there is no significant correlation  \n",
    "$H_1$: there is a significant correlation"
   ]
  },
  {
   "cell_type": "code",
   "execution_count": 5,
   "id": "2e5d42d9-eb84-42a5-a137-a178de3211b1",
   "metadata": {},
   "outputs": [
    {
     "data": {
      "text/plain": [
       "array([1914, 8086])"
      ]
     },
     "execution_count": 5,
     "metadata": {},
     "output_type": "execute_result"
    },
    {
     "data": {
      "image/png": "[encoded data removed]",
      "text/plain": [
       "<Figure size 640x480 with 1 Axes>"
      ]
     },
     "metadata": {},
     "output_type": "display_data"
    }
   ],
   "source": [
    "def bootstrap_Chisquare (x1_1, x1_2, x2_1, x2_2, x3_1, x3_2, Nboot, statfun):\n",
    "    x1_1 = np.array(x1_1)\n",
    "    x1_2 = np.array(x1_2)\n",
    "\n",
    "    x2_1 = np.array(x2_1)\n",
    "    x2_2 = np.array(x2_2)\n",
    "    \n",
    "    x3_1 = np.array(x3_1)\n",
    "    x3_2 = np.array(x3_2)\n",
    "    \n",
    "    resample_stat = []\n",
    "    H1 = 0\n",
    "    H0 = 0\n",
    "    \n",
    "    for k in range(Nboot):\n",
    "        s1_1, s1_2, s1_3, s1_4 = 0, 0, 0, 0\n",
    "        s2_1, s2_2, s2_3, s2_4 = 0, 0, 0, 0\n",
    "        s3_1, s3_2, s3_3, s3_4 = 0, 0, 0, 0\n",
    "        \n",
    "        samp1 = [[s1_1, s1_2],[s1_3, s1_4]]\n",
    "        samp2 = [[s2_1, s2_2],[s2_3, s2_4]]\n",
    "        samp3 = [[s3_1, s3_2],[s3_3, s3_4]]\n",
    "        \n",
    "        index1_1 = np.random.randint(0, len(x1_1), len(x1_1))\n",
    "        index1_2 = np.random.randint(0, len(x1_2), len(x1_2))\n",
    "        sample1_1 = x1_1[index1_1]\n",
    "        sample1_2 = x1_2[index1_2]\n",
    "        for i in range(0, len(sample1_1)):\n",
    "            if sample1_1[i] == 0 and sample1_2[i] == 0:\n",
    "                s1_1 = s1_1 + 1\n",
    "            elif sample1_1[i] == 1 and sample1_2[i] == 0:\n",
    "                s1_2 = s1_2 + 1\n",
    "            elif sample1_1[i] == 0 and sample1_2[i] == 1:\n",
    "                s1_3 = s1_3 + 1\n",
    "            elif sample1_1[i] == 1 and sample1_2[i] == 1:\n",
    "                s1_4 = s1_4 + 1\n",
    "        \n",
    "        index2_1 = np.random.randint(0, len(x2_1), len(x2_1))\n",
    "        index2_2 = np.random.randint(0, len(x2_2), len(x2_2))\n",
    "        sample2_1 = x2_1[index2_1]\n",
    "        sample2_2 = x2_2[index2_2]\n",
    "        for j in range(0, len(sample2_1)):\n",
    "            if sample2_1[j] == 0 and sample2_2[j] == 0:\n",
    "                s2_1 = s2_1 + 1\n",
    "            elif sample2_1[j] == 1 and sample2_2[j] == 0:\n",
    "                s2_2 = s2_2 + 1\n",
    "            elif sample2_1[j] == 0 and sample2_2[j] == 1:\n",
    "                s2_3 = s2_3 + 1\n",
    "            elif sample2_1[j] == 1 and sample2_2[j] == 1:\n",
    "                s2_4 = s2_4 + 1\n",
    "        \n",
    "        index3_1 = np.random.randint(0, len(x3_1), len(x3_1))\n",
    "        index3_2 = np.random.randint(0, len(x3_2), len(x3_2))\n",
    "        sample3_1 = x3_1[index3_1]\n",
    "        sample3_2 = x3_2[index3_2]\n",
    "        for l in range(0, len(sample3_1)):\n",
    "            if sample3_1[l] == 0 and sample3_2[l] == 0:\n",
    "                s3_1 = s3_1 + 1\n",
    "            elif sample3_1[l] == 1 and sample3_2[l] == 0:\n",
    "                s3_2 = s3_2 + 1\n",
    "            elif sample3_1[l] == 0 and sample3_2[l] == 1:\n",
    "                s3_3 = s3_3 + 1\n",
    "            elif sample3_1[l] == 1 and sample3_2[l] == 1:\n",
    "                s3_4 = s3_4 + 1\n",
    "                \n",
    "        samp1 = [[s1_1, s1_2],[s1_3, s1_4]]\n",
    "        samp2 = [[s2_1, s2_2],[s2_3, s2_4]]\n",
    "        samp3 = [[s3_1, s3_2],[s3_3, s3_4]]\n",
    "        \n",
    "        stat1, p1, dof1, expected1 = statfun(samp1)\n",
    "        stat2, p2, dof2, expected2 = statfun(samp2)\n",
    "        stat3, p3, dof3, expected3 = statfun(samp3)\n",
    "        \n",
    "        total_stat = stat1 + stat2 + stat3\n",
    "        resample_stat.append(total_stat)\n",
    "        \n",
    "        critical = 3.841\n",
    "        if (stat1 + stat2 + stat3) >= critical:\n",
    "            H1 = H1 + 1\n",
    "        else:\n",
    "            H0 = H0 + 1\n",
    "        \n",
    "        \n",
    "\n",
    "    resampled_stat = [H1, H0]\n",
    "    \n",
    "    plt.hist(resample_stat, bins=50)\n",
    "    return np.array(resampled_stat)\n",
    "\n",
    "bootstrap_Chisquare(dfsubWL[0:173], dfsubG[0:173], dfsubWL[173:346], dfsubG[173:346], dfsubWL[346:520], dfsubWL[346:520], 10000, chi2_contingency)"
   ]
  },
  {
   "cell_type": "code",
   "execution_count": 6,
   "id": "26ce1e0b-74a5-4e58-abb0-5d491d9d812a",
   "metadata": {},
   "outputs": [
    {
     "data": {
      "text/plain": [
       "0.8151"
      ]
     },
     "execution_count": 6,
     "metadata": {},
     "output_type": "execute_result"
    }
   ],
   "source": [
    "pvalue = 8151 / 10000\n",
    "pvalue"
   ]
  },
  {
   "cell_type": "markdown",
   "id": "424a2088-3036-469e-8962-5b448acc30f0",
   "metadata": {},
   "source": [
    "The p value is estimated to have a value of 0.8151 which exceeds 0.05 alpha, therefore we failed to reject the null hypothesis\n",
    "meaning, there is no significant correlation between sudden weight loss and weakness."
   ]
  },
  {
   "cell_type": "markdown",
   "id": "a65f99fc-2c39-44e2-ae9f-d17f360a6d70",
   "metadata": {},
   "source": [
    "## ANOVA"
   ]
  },
  {
   "cell_type": "markdown",
   "id": "cf1cb06a-c3d5-46d4-a2e1-40308d544021",
   "metadata": {},
   "source": [
    "Data set: Analyzing exam scores   \n",
    "From: https://www.kaggle.com/datasets/sudhanshu2198/analyzing-exam-scores?resource=download"
   ]
  },
  {
   "cell_type": "code",
   "execution_count": 7,
   "id": "d8d97367-d61f-4b6e-95f0-8e1c5b95a01a",
   "metadata": {},
   "outputs": [],
   "source": [
    "import pandas as pd\n",
    "import matplotlib.pyplot as plt\n",
    "import seaborn as sns\n",
    "import numpy as np\n",
    "from scipy.stats import f_oneway"
   ]
  },
  {
   "cell_type": "code",
   "execution_count": 8,
   "id": "e1b3ea0e-edb6-4fb1-8505-999d01f7faab",
   "metadata": {},
   "outputs": [],
   "source": [
    "df = pd.read_csv('exams.csv')"
   ]
  },
  {
   "cell_type": "code",
   "execution_count": 9,
   "id": "73313457-ca02-40fe-97c0-b1e44f726596",
   "metadata": {},
   "outputs": [
    {
     "data": {
      "text/html": [
       "<div>\n",
       "<style scoped>\n",
       "    .dataframe tbody tr th:only-of-type {\n",
       "        vertical-align: middle;\n",
       "    }\n",
       "\n",
       "    .dataframe tbody tr th {\n",
       "        vertical-align: top;\n",
       "    }\n",
       "\n",
       "    .dataframe thead th {\n",
       "        text-align: right;\n",
       "    }\n",
       "</style>\n",
       "<table border=\"1\" class=\"dataframe\">\n",
       "  <thead>\n",
       "    <tr style=\"text-align: right;\">\n",
       "      <th></th>\n",
       "      <th>gender</th>\n",
       "      <th>race/ethnicity</th>\n",
       "      <th>parent_education_level</th>\n",
       "      <th>lunch</th>\n",
       "      <th>test_prep_course</th>\n",
       "      <th>math</th>\n",
       "    </tr>\n",
       "  </thead>\n",
       "  <tbody>\n",
       "    <tr>\n",
       "      <th>0</th>\n",
       "      <td>female</td>\n",
       "      <td>group B</td>\n",
       "      <td>bachelor's degree</td>\n",
       "      <td>standard</td>\n",
       "      <td>none</td>\n",
       "      <td>72</td>\n",
       "    </tr>\n",
       "    <tr>\n",
       "      <th>1</th>\n",
       "      <td>female</td>\n",
       "      <td>group C</td>\n",
       "      <td>some college</td>\n",
       "      <td>standard</td>\n",
       "      <td>completed</td>\n",
       "      <td>69</td>\n",
       "    </tr>\n",
       "    <tr>\n",
       "      <th>2</th>\n",
       "      <td>female</td>\n",
       "      <td>group B</td>\n",
       "      <td>master's degree</td>\n",
       "      <td>standard</td>\n",
       "      <td>none</td>\n",
       "      <td>90</td>\n",
       "    </tr>\n",
       "    <tr>\n",
       "      <th>3</th>\n",
       "      <td>male</td>\n",
       "      <td>group A</td>\n",
       "      <td>associate's degree</td>\n",
       "      <td>free/reduced</td>\n",
       "      <td>none</td>\n",
       "      <td>47</td>\n",
       "    </tr>\n",
       "    <tr>\n",
       "      <th>4</th>\n",
       "      <td>male</td>\n",
       "      <td>group C</td>\n",
       "      <td>some college</td>\n",
       "      <td>standard</td>\n",
       "      <td>none</td>\n",
       "      <td>76</td>\n",
       "    </tr>\n",
       "  </tbody>\n",
       "</table>\n",
       "</div>"
      ],
      "text/plain": [
       "   gender race/ethnicity parent_education_level         lunch  \\\n",
       "0  female        group B      bachelor's degree      standard   \n",
       "1  female        group C           some college      standard   \n",
       "2  female        group B        master's degree      standard   \n",
       "3    male        group A     associate's degree  free/reduced   \n",
       "4    male        group C           some college      standard   \n",
       "\n",
       "  test_prep_course  math  \n",
       "0             none    72  \n",
       "1        completed    69  \n",
       "2             none    90  \n",
       "3             none    47  \n",
       "4             none    76  "
      ]
     },
     "execution_count": 9,
     "metadata": {},
     "output_type": "execute_result"
    }
   ],
   "source": [
    "df.head()"
   ]
  },
  {
   "cell_type": "code",
   "execution_count": 10,
   "id": "e0602efd-b057-475e-9b0b-5ff99362a665",
   "metadata": {},
   "outputs": [
    {
     "name": "stdout",
     "output_type": "stream",
     "text": [
      "<class 'pandas.core.frame.DataFrame'>\n",
      "RangeIndex: 1000 entries, 0 to 999\n",
      "Data columns (total 6 columns):\n",
      " #   Column                  Non-Null Count  Dtype \n",
      "---  ------                  --------------  ----- \n",
      " 0   gender                  1000 non-null   object\n",
      " 1   race/ethnicity          1000 non-null   object\n",
      " 2   parent_education_level  1000 non-null   object\n",
      " 3   lunch                   1000 non-null   object\n",
      " 4   test_prep_course        1000 non-null   object\n",
      " 5   math                    1000 non-null   int64 \n",
      "dtypes: int64(1), object(5)\n",
      "memory usage: 47.0+ KB\n"
     ]
    }
   ],
   "source": [
    "df.info()"
   ]
  },
  {
   "cell_type": "code",
   "execution_count": 11,
   "id": "d1ada29c-003f-4a3f-9997-be081224bb62",
   "metadata": {},
   "outputs": [],
   "source": [
    "df1 = df[['race/ethnicity', 'math']]"
   ]
  },
  {
   "cell_type": "code",
   "execution_count": 12,
   "id": "87241cde-c81a-4f96-b9ed-df7fd5fc0d10",
   "metadata": {},
   "outputs": [
    {
     "data": {
      "text/plain": [
       "race/ethnicity\n",
       "group C    319\n",
       "group D    262\n",
       "group B    190\n",
       "group E    140\n",
       "group A     89\n",
       "Name: count, dtype: int64"
      ]
     },
     "execution_count": 12,
     "metadata": {},
     "output_type": "execute_result"
    },
    {
     "data": {
      "image/png": "[encoded data removed]",
      "text/plain": [
       "<Figure size 640x480 with 1 Axes>"
      ]
     },
     "metadata": {},
     "output_type": "display_data"
    }
   ],
   "source": [
    "sns.countplot(x = 'race/ethnicity', data = df1)\n",
    "df1['race/ethnicity'].value_counts()"
   ]
  },
  {
   "cell_type": "markdown",
   "id": "fc217071-2c75-4b20-8239-acafa6a31f6a",
   "metadata": {},
   "source": [
    "### Hypothesis Testing"
   ]
  },
  {
   "cell_type": "markdown",
   "id": "b2836a09-42d3-443e-a30c-0a2969b12fce",
   "metadata": {},
   "source": [
    "$H_0:$ There is no significant difference between the math scores between different race/ethnicity  \n",
    "$H_1$: There is a significant difference somewhere between the math scores of different race/ethnicity\n",
    "\n",
    "Reject $H_0$ if p-value is less than 0.05"
   ]
  },
  {
   "cell_type": "code",
   "execution_count": 13,
   "id": "9fe3e70d-37c6-494f-be8a-fbdbaea11ccd",
   "metadata": {},
   "outputs": [
    {
     "data": {
      "text/plain": [
       "F_onewayResult(statistic=14.593885166332635, pvalue=1.3732194030370688e-11)"
      ]
     },
     "execution_count": 13,
     "metadata": {},
     "output_type": "execute_result"
    }
   ],
   "source": [
    "A = df1.loc[(df1['race/ethnicity'] == 'group A')]\n",
    "B = df1.loc[(df1['race/ethnicity'] == 'group B')]\n",
    "C = df1.loc[(df1['race/ethnicity'] == 'group C')]\n",
    "D = df1.loc[(df1['race/ethnicity'] == 'group D')]\n",
    "E = df1.loc[(df1['race/ethnicity'] == 'group E')]\n",
    "\n",
    "A = A['math'].tolist()\n",
    "B = B['math'].tolist()\n",
    "C = C['math'].tolist()\n",
    "D = D['math'].tolist()\n",
    "E = E['math'].tolist()\n",
    "\n",
    "f_oneway(A, B, C, D, E)"
   ]
  },
  {
   "cell_type": "markdown",
   "id": "55fb6a27-def4-4d48-b72d-14b627e2e6c7",
   "metadata": {},
   "source": [
    "In __theory__, since the p-value of $1.37*10^{-11}$ is less than 0.05 we reject the $H_0$."
   ]
  },
  {
   "cell_type": "code",
   "execution_count": 14,
   "id": "e6e635d0-7915-4e0c-9857-4c25fc2d0a64",
   "metadata": {},
   "outputs": [],
   "source": [
    "math = df['math']\n",
    "mList = df['math'].tolist()\n",
    "bVar = []\n",
    "for i in range(10000):\n",
    "    gA = np.random.choice(mList, 89)\n",
    "    gB = np.random.choice(mList, 190)\n",
    "    gC = np.random.choice(mList, 319)\n",
    "    gD = np.random.choice(mList, 262)\n",
    "    gE = np.random.choice(mList, 140)\n",
    "    means = [gA.mean(), gB.mean(), gC.mean(), gD.mean(), gE.mean()]\n",
    "    variance = np.var(means)\n",
    "    bVar.append(variance)"
   ]
  },
  {
   "cell_type": "code",
   "execution_count": 15,
   "id": "ca1ff7a4-7823-458e-a6ff-d31b5eb68a6b",
   "metadata": {},
   "outputs": [
    {
     "data": {
      "text/plain": [
       "<Axes: ylabel='Count'>"
      ]
     },
     "execution_count": 15,
     "metadata": {},
     "output_type": "execute_result"
    },
    {
     "data": {
      "image/png": "[encoded data removed]",
      "text/plain": [
       "<Figure size 640x480 with 1 Axes>"
      ]
     },
     "metadata": {},
     "output_type": "display_data"
    }
   ],
   "source": [
    "sns.histplot(bVar)"
   ]
  },
  {
   "cell_type": "code",
   "execution_count": 16,
   "id": "b1da09eb-3956-43b6-ac6c-07d87375e75b",
   "metadata": {},
   "outputs": [
    {
     "ename": "NameError",
     "evalue": "name 'omeans' is not defined",
     "output_type": "error",
     "traceback": [
      "\u001b[0;31m---------------------------------------------------------------------------\u001b[0m",
      "\u001b[0;31mNameError\u001b[0m                                 Traceback (most recent call last)",
      "Cell \u001b[0;32mIn[16], line 2\u001b[0m\n\u001b[1;32m      1\u001b[0m oMeans \u001b[38;5;241m=\u001b[39m [np\u001b[38;5;241m.\u001b[39mmean(A), np\u001b[38;5;241m.\u001b[39mmean(B), np\u001b[38;5;241m.\u001b[39mmean(C), np\u001b[38;5;241m.\u001b[39mmean(D), np\u001b[38;5;241m.\u001b[39mmean(E)]\n\u001b[0;32m----> 2\u001b[0m oVar \u001b[38;5;241m=\u001b[39m np\u001b[38;5;241m.\u001b[39mvar(omeans)\n",
      "\u001b[0;31mNameError\u001b[0m: name 'omeans' is not defined"
     ]
    }
   ],
   "source": [
    "oMeans = [np.mean(A), np.mean(B), np.mean(C), np.mean(D), np.mean(E)]\n",
    "oVar = np.var(omeans)"
   ]
  },
  {
   "cell_type": "code",
   "execution_count": null,
   "id": "ee31ca6f-5d82-48f7-9070-1b02c9d49015",
   "metadata": {},
   "outputs": [],
   "source": [
    "pValue = sum(bVar > oVar)/100000\n",
    "pValue"
   ]
  },
  {
   "cell_type": "markdown",
   "id": "e39a82a4-47e4-4a53-879d-14144dbf8737",
   "metadata": {},
   "source": [
    "Upon obtaining a p-value of 0 by bootstrapping, we can reject the $H_0$ and conclude that there is a significant difference between the math scores of different race/ethnicity."
   ]
  },
  {
   "cell_type": "code",
   "execution_count": null,
   "id": "36cb291f-cbcb-4538-bfed-2f58ebb20824",
   "metadata": {},
   "outputs": [],
   "source": []
  },
  {
   "cell_type": "code",
   "execution_count": null,
   "id": "9c9f556c-662e-4a4d-8b6c-e42814d4a642",
   "metadata": {},
   "outputs": [],
   "source": []
  },
  {
   "cell_type": "code",
   "execution_count": 19,
   "id": "d3aac730-1093-4e72-be2d-c5b89a67b52f",
   "metadata": {
    "tags": []
   },
   "outputs": [
    {
     "data": {
      "text/html": [
       "<div>\n",
       "<style scoped>\n",
       "    .dataframe tbody tr th:only-of-type {\n",
       "        vertical-align: middle;\n",
       "    }\n",
       "\n",
       "    .dataframe tbody tr th {\n",
       "        vertical-align: top;\n",
       "    }\n",
       "\n",
       "    .dataframe thead th {\n",
       "        text-align: right;\n",
       "    }\n",
       "</style>\n",
       "<table border=\"1\" class=\"dataframe\">\n",
       "  <thead>\n",
       "    <tr style=\"text-align: right;\">\n",
       "      <th></th>\n",
       "      <th>gender</th>\n",
       "      <th>race/ethnicity</th>\n",
       "      <th>parent_education_level</th>\n",
       "      <th>lunch</th>\n",
       "      <th>test_prep_course</th>\n",
       "      <th>math</th>\n",
       "    </tr>\n",
       "  </thead>\n",
       "  <tbody>\n",
       "    <tr>\n",
       "      <th>0</th>\n",
       "      <td>female</td>\n",
       "      <td>group B</td>\n",
       "      <td>bachelor's degree</td>\n",
       "      <td>standard</td>\n",
       "      <td>none</td>\n",
       "      <td>72</td>\n",
       "    </tr>\n",
       "    <tr>\n",
       "      <th>1</th>\n",
       "      <td>female</td>\n",
       "      <td>group C</td>\n",
       "      <td>some college</td>\n",
       "      <td>standard</td>\n",
       "      <td>completed</td>\n",
       "      <td>69</td>\n",
       "    </tr>\n",
       "    <tr>\n",
       "      <th>2</th>\n",
       "      <td>female</td>\n",
       "      <td>group B</td>\n",
       "      <td>master's degree</td>\n",
       "      <td>standard</td>\n",
       "      <td>none</td>\n",
       "      <td>90</td>\n",
       "    </tr>\n",
       "    <tr>\n",
       "      <th>3</th>\n",
       "      <td>male</td>\n",
       "      <td>group A</td>\n",
       "      <td>associate's degree</td>\n",
       "      <td>free/reduced</td>\n",
       "      <td>none</td>\n",
       "      <td>47</td>\n",
       "    </tr>\n",
       "    <tr>\n",
       "      <th>4</th>\n",
       "      <td>male</td>\n",
       "      <td>group C</td>\n",
       "      <td>some college</td>\n",
       "      <td>standard</td>\n",
       "      <td>none</td>\n",
       "      <td>76</td>\n",
       "    </tr>\n",
       "    <tr>\n",
       "      <th>...</th>\n",
       "      <td>...</td>\n",
       "      <td>...</td>\n",
       "      <td>...</td>\n",
       "      <td>...</td>\n",
       "      <td>...</td>\n",
       "      <td>...</td>\n",
       "    </tr>\n",
       "    <tr>\n",
       "      <th>995</th>\n",
       "      <td>female</td>\n",
       "      <td>group E</td>\n",
       "      <td>master's degree</td>\n",
       "      <td>standard</td>\n",
       "      <td>completed</td>\n",
       "      <td>88</td>\n",
       "    </tr>\n",
       "    <tr>\n",
       "      <th>996</th>\n",
       "      <td>male</td>\n",
       "      <td>group C</td>\n",
       "      <td>high school</td>\n",
       "      <td>free/reduced</td>\n",
       "      <td>none</td>\n",
       "      <td>62</td>\n",
       "    </tr>\n",
       "    <tr>\n",
       "      <th>997</th>\n",
       "      <td>female</td>\n",
       "      <td>group C</td>\n",
       "      <td>high school</td>\n",
       "      <td>free/reduced</td>\n",
       "      <td>completed</td>\n",
       "      <td>59</td>\n",
       "    </tr>\n",
       "    <tr>\n",
       "      <th>998</th>\n",
       "      <td>female</td>\n",
       "      <td>group D</td>\n",
       "      <td>some college</td>\n",
       "      <td>standard</td>\n",
       "      <td>completed</td>\n",
       "      <td>68</td>\n",
       "    </tr>\n",
       "    <tr>\n",
       "      <th>999</th>\n",
       "      <td>female</td>\n",
       "      <td>group D</td>\n",
       "      <td>some college</td>\n",
       "      <td>free/reduced</td>\n",
       "      <td>none</td>\n",
       "      <td>77</td>\n",
       "    </tr>\n",
       "  </tbody>\n",
       "</table>\n",
       "<p>1000 rows × 6 columns</p>\n",
       "</div>"
      ],
      "text/plain": [
       "     gender race/ethnicity parent_education_level         lunch  \\\n",
       "0    female        group B      bachelor's degree      standard   \n",
       "1    female        group C           some college      standard   \n",
       "2    female        group B        master's degree      standard   \n",
       "3      male        group A     associate's degree  free/reduced   \n",
       "4      male        group C           some college      standard   \n",
       "..      ...            ...                    ...           ...   \n",
       "995  female        group E        master's degree      standard   \n",
       "996    male        group C            high school  free/reduced   \n",
       "997  female        group C            high school  free/reduced   \n",
       "998  female        group D           some college      standard   \n",
       "999  female        group D           some college  free/reduced   \n",
       "\n",
       "    test_prep_course  math  \n",
       "0               none    72  \n",
       "1          completed    69  \n",
       "2               none    90  \n",
       "3               none    47  \n",
       "4               none    76  \n",
       "..               ...   ...  \n",
       "995        completed    88  \n",
       "996             none    62  \n",
       "997        completed    59  \n",
       "998        completed    68  \n",
       "999             none    77  \n",
       "\n",
       "[1000 rows x 6 columns]"
      ]
     },
     "execution_count": 19,
     "metadata": {},
     "output_type": "execute_result"
    }
   ],
   "source": [
    "df"
   ]
  },
  {
   "cell_type": "code",
   "execution_count": null,
   "id": "cce8b2d5-974b-4483-b9b1-ecdcebd3b4db",
   "metadata": {},
   "outputs": [],
   "source": []
  }
 ],
 "metadata": {
  "kernelspec": {
   "display_name": "Python 3 (ipykernel)",
   "language": "python",
   "name": "python3"
  },
  "language_info": {
   "codemirror_mode": {
    "name": "ipython",
    "version": 3
   },
   "file_extension": ".py",
   "mimetype": "text/x-python",
   "name": "python",
   "nbconvert_exporter": "python",
   "pygments_lexer": "ipython3",
   "version": "3.11.5"
  }
 },
 "nbformat": 4,
 "nbformat_minor": 5
}
