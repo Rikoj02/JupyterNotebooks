{
 "cells": [
  {
   "cell_type": "markdown",
   "id": "99de57b6-ca05-480c-9873-b8983a5123cc",
   "metadata": {},
   "source": [
    "# Statistical Inference Using Simulation\n",
    "## Statistical Computing Notebook Week 4\n",
    "\n",
    "*Julyver Tolentino* | *Mapúa University* | *DS122L*"
   ]
  },
  {
   "cell_type": "markdown",
   "id": "7ac1baa2-fc96-454b-86d3-17be0331d6dd",
   "metadata": {},
   "source": [
    "### About Statistical Simulations\n",
    "\n",
    "Typically, Statistical problems where collection of data is infeasible or repeating the task multiple times that causes huge time consumption often lead the path of simulating them. So long as the behavior, distribution and the characteristics of data are known beforehand, simulation is possible for addressing Statistical-related problems.\n",
    "\n",
    "Before performing any tests, the model distribution must be assessed first and identifying the correct type of distribution in a given case is crucial to provide an accurate insight to a given task."
   ]
  },
  {
   "cell_type": "code",
   "execution_count": 1,
   "id": "ac0202a0-c631-42c1-9cc1-38c7e4b5dc73",
   "metadata": {},
   "outputs": [],
   "source": [
    "import numpy as np\n",
    "import matplotlib.pyplot as plt\n",
    "import seaborn as sns"
   ]
  },
  {
   "cell_type": "code",
   "execution_count": 2,
   "id": "3854c563-7306-4f75-a844-948e260cb30c",
   "metadata": {},
   "outputs": [],
   "source": [
    "# For reproducibility\n",
    "np.random.seed(9453)"
   ]
  },
  {
   "cell_type": "markdown",
   "id": "7c162b37-b090-43e3-8894-3cab202f5092",
   "metadata": {},
   "source": [
    "### Discrete Random Variables\n",
    "\n",
    "The following are the common types of discrete distributions and its corresponding `python` simulation model"
   ]
  },
  {
   "cell_type": "markdown",
   "id": "a4dd1dbe-5d33-4283-b911-bd2925258b19",
   "metadata": {},
   "source": [
    "#### Binomial Distribution\n",
    "\n",
    "<h3>$$P_x = \\binom{n}{k} p^{k}(1-p)^{n-k}$$</h3>"
   ]
  },
  {
   "cell_type": "code",
   "execution_count": 18,
   "id": "535c9838-85d6-4283-88e6-67babb1e116d",
   "metadata": {},
   "outputs": [],
   "source": [
    "NUM_SIMULATIONS = 100  # The larger, the more accurate the results\n",
    "\n",
    "NUM_ATTEMPTS = 60        # n\n",
    "NUM_SUCCESS = 17         # k\n",
    "PROB_SUCCESS = 0.25      # p"
   ]
  },
  {
   "cell_type": "code",
   "execution_count": 19,
   "id": "936ecad0-2ab9-48b7-a2f5-7583ff545baf",
   "metadata": {},
   "outputs": [],
   "source": [
    "binom_results = np.random.binomial(n=NUM_ATTEMPTS, p=PROB_SUCCESS, size=NUM_SIMULATIONS)"
   ]
  },
  {
   "cell_type": "code",
   "execution_count": 20,
   "id": "8d66bb58-b9cc-4421-808a-9c5e356c35ee",
   "metadata": {},
   "outputs": [
    {
     "data": {
      "text/plain": [
       "array([10, 18, 13, 13, 12, 17, 14, 19, 21, 18, 15, 15, 15, 18, 15, 16, 13,\n",
       "       14, 15, 22, 15, 19, 12, 14, 11, 22, 13, 17, 12, 19, 22, 12, 16, 16,\n",
       "       15, 18, 12, 17, 14, 20, 14, 13, 18, 18, 15,  9, 18, 18, 14, 17, 14,\n",
       "       16,  9, 13, 11, 14, 12,  9, 19, 10, 10, 17, 12, 15, 17, 11, 16, 22,\n",
       "       17, 14, 14, 17, 10, 18, 14, 18, 17, 14, 14, 13, 16, 14, 11, 14, 14,\n",
       "       23, 12, 20, 18, 14, 18, 15, 14, 12,  9, 20, 10, 17, 11, 13])"
      ]
     },
     "execution_count": 20,
     "metadata": {},
     "output_type": "execute_result"
    }
   ],
   "source": [
    "# Shows the number of successes per simulation\n",
    "binom_results"
   ]
  },
  {
   "cell_type": "code",
   "execution_count": 21,
   "id": "16754529-7375-46a1-ae17-aed37585b83e",
   "metadata": {},
   "outputs": [],
   "source": [
    "binom_is_bound = binom_results <= NUM_SUCCESS  ## [..,...,..] <= 17"
   ]
  },
  {
   "cell_type": "code",
   "execution_count": 22,
   "id": "898a8d59-8e5e-4859-877f-cf35d7fc6e01",
   "metadata": {},
   "outputs": [
    {
     "data": {
      "text/plain": [
       "array([ True, False,  True,  True,  True,  True,  True, False, False,\n",
       "       False,  True,  True,  True, False,  True,  True,  True,  True,\n",
       "        True, False,  True, False,  True,  True,  True, False,  True,\n",
       "        True,  True, False, False,  True,  True,  True,  True, False,\n",
       "        True,  True,  True, False,  True,  True, False, False,  True,\n",
       "        True, False, False,  True,  True,  True,  True,  True,  True,\n",
       "        True,  True,  True,  True, False,  True,  True,  True,  True,\n",
       "        True,  True,  True,  True, False,  True,  True,  True,  True,\n",
       "        True, False,  True, False,  True,  True,  True,  True,  True,\n",
       "        True,  True,  True,  True, False,  True, False, False,  True,\n",
       "       False,  True,  True,  True,  True, False,  True,  True,  True,\n",
       "        True])"
      ]
     },
     "execution_count": 22,
     "metadata": {},
     "output_type": "execute_result"
    }
   ],
   "source": [
    "binom_is_bound"
   ]
  },
  {
   "cell_type": "code",
   "execution_count": 23,
   "id": "49c9838e-1de9-4a55-a709-9eace1e73478",
   "metadata": {},
   "outputs": [
    {
     "data": {
      "text/plain": [
       "0.75"
      ]
     },
     "execution_count": 23,
     "metadata": {},
     "output_type": "execute_result"
    }
   ],
   "source": [
    "binom_is_bound.mean()"
   ]
  },
  {
   "cell_type": "code",
   "execution_count": 26,
   "id": "6b222dc9-6c81-46e0-a3ae-2dbba59bdaec",
   "metadata": {},
   "outputs": [
    {
     "data": {
      "image/png": "[encoded data removed]",
      "text/plain": [
       "<Figure size 1000x600 with 1 Axes>"
      ]
     },
     "metadata": {},
     "output_type": "display_data"
    }
   ],
   "source": [
    "fig, ax = plt.subplots(figsize=(10,6))\n",
    "\n",
    "sns.countplot(x=binom_results, hue=binom_is_bound, dodge=False)\n",
    "\n",
    "ax.set_xlabel('Number of Successes $(k)$')\n",
    "ax.set_ylabel('Count')\n",
    "ax.set_title(f'Simulated Binomial Distribution with filter on $n\\leq ${NUM_SUCCESS}')\n",
    "\n",
    "ax.legend([f'$n>${NUM_SUCCESS}',f'$n\\leq${NUM_SUCCESS}'])\n",
    "\n",
    "plt.show()"
   ]
  },
  {
   "cell_type": "markdown",
   "id": "4f296e8b-acca-4b31-84d9-570bb1f91652",
   "metadata": {},
   "source": [
    "#### Geometric Distribution\n",
    "\n",
    "<h3>$$P_x = (1-p)^{k-1}p$$</h3>"
   ]
  },
  {
   "cell_type": "code",
   "execution_count": 10,
   "id": "6f7fe68e-9bc2-4575-9fae-52582f317396",
   "metadata": {},
   "outputs": [],
   "source": [
    "NUM_SIMULATIONS = 10000  # The larger, the more accurate the results\n",
    "\n",
    "ATTEMPT_NUM_CHECK = 12   # k\n",
    "PROB_SUCCESS = 0.13      # p"
   ]
  },
  {
   "cell_type": "code",
   "execution_count": 11,
   "id": "b5f23c5d-e05b-4082-aa2b-721a287613e3",
   "metadata": {},
   "outputs": [],
   "source": [
    "geom_results = np.random.geometric(p=PROB_SUCCESS, size=NUM_SIMULATIONS)"
   ]
  },
  {
   "cell_type": "code",
   "execution_count": 12,
   "id": "e98f0cd6-99fa-4af7-97b0-6599b45ebb3b",
   "metadata": {},
   "outputs": [
    {
     "data": {
      "text/plain": [
       "array([ 3,  2,  4, ...,  5,  9, 12])"
      ]
     },
     "execution_count": 12,
     "metadata": {},
     "output_type": "execute_result"
    }
   ],
   "source": [
    "geom_results"
   ]
  },
  {
   "cell_type": "code",
   "execution_count": 13,
   "id": "e0b052db-c0d1-428d-b93d-7630a150f436",
   "metadata": {},
   "outputs": [],
   "source": [
    "geom_is_bound = geom_results <= ATTEMPT_NUM_CHECK"
   ]
  },
  {
   "cell_type": "code",
   "execution_count": 14,
   "id": "2628cc1d-88db-4519-8bb3-f80492892b33",
   "metadata": {},
   "outputs": [
    {
     "data": {
      "text/plain": [
       "array([ True,  True,  True, ...,  True,  True,  True])"
      ]
     },
     "execution_count": 14,
     "metadata": {},
     "output_type": "execute_result"
    }
   ],
   "source": [
    "geom_is_bound"
   ]
  },
  {
   "cell_type": "code",
   "execution_count": 15,
   "id": "0dc99fff-dbcb-455d-8472-e66c7eaaf7a4",
   "metadata": {},
   "outputs": [
    {
     "data": {
      "text/plain": [
       "0.8126"
      ]
     },
     "execution_count": 15,
     "metadata": {},
     "output_type": "execute_result"
    }
   ],
   "source": [
    "geom_is_bound.mean()"
   ]
  },
  {
   "cell_type": "code",
   "execution_count": 16,
   "id": "37c2c032-ed07-4ac5-8e25-2deb14f559f9",
   "metadata": {},
   "outputs": [
    {
     "data": {
      "image/png": "[encoded data removed]",
      "text/plain": [
       "<Figure size 1000x400 with 1 Axes>"
      ]
     },
     "metadata": {},
     "output_type": "display_data"
    }
   ],
   "source": [
    "fig, ax = plt.subplots(figsize=(10,4))\n",
    "\n",
    "# To avoid plotting higher attempts\n",
    "# You may change the upper bound if desired\n",
    "filter_mask = geom_results <= ATTEMPT_NUM_CHECK * 2 - 3  \n",
    "\n",
    "sns.countplot(x=geom_results[filter_mask], hue=geom_is_bound[filter_mask], dodge=False)\n",
    "\n",
    "ax.set_xlabel('Number of Attempts $(n)$')\n",
    "ax.set_ylabel('Count')\n",
    "ax.set_title(f'Simulated Geometric Distribution with filter on $n\\leq ${ATTEMPT_NUM_CHECK}')\n",
    "\n",
    "ax.legend([f'$n>${ATTEMPT_NUM_CHECK}',f'$n\\leq${ATTEMPT_NUM_CHECK}'])\n",
    "\n",
    "plt.show()"
   ]
  },
  {
   "cell_type": "markdown",
   "id": "062a8eac-7c98-4d8a-8f66-5469c7efcd67",
   "metadata": {},
   "source": [
    "### Continuous Random Variables\n",
    "\n",
    "The following are the common types of continuous distributions and its corresponding `python` simulation model"
   ]
  },
  {
   "cell_type": "markdown",
   "id": "8a779d72-abf5-4ec6-a097-9ad31425e088",
   "metadata": {},
   "source": [
    "#### Uniform Distribution\n",
    "\n",
    "<h3>$$P_x=\\frac{1}{b-a}; a\\leq x\\leq b$$</h3>"
   ]
  },
  {
   "cell_type": "code",
   "execution_count": 17,
   "id": "3d2b16a3-8857-476a-9cea-093ed12c3512",
   "metadata": {},
   "outputs": [],
   "source": [
    "NUM_SIMULATIONS = 10000  # The larger, the more accurate the results\n",
    "\n",
    "LOWER_BOUND = 0          # a\n",
    "UPPER_BOUND = 1          # b\n",
    "EX_RAND_NUM = 0.5        # x"
   ]
  },
  {
   "cell_type": "code",
   "execution_count": 25,
   "id": "9a104f37-802e-4c5a-83e5-84dbc4390e4a",
   "metadata": {},
   "outputs": [],
   "source": [
    "uniform_results = np.random.uniform(low=LOWER_BOUND, high=UPPER_BOUND, size=NUM_SIMULATIONS)"
   ]
  },
  {
   "cell_type": "code",
   "execution_count": 26,
   "id": "8f707aef-e5b9-4a48-b847-5c6f517f4ee0",
   "metadata": {},
   "outputs": [
    {
     "data": {
      "text/plain": [
       "array([0.06788929, 0.81764324, 0.25924785, ..., 0.44244441, 0.3580579 ,\n",
       "       0.79877885])"
      ]
     },
     "execution_count": 26,
     "metadata": {},
     "output_type": "execute_result"
    }
   ],
   "source": [
    "uniform_results"
   ]
  },
  {
   "cell_type": "code",
   "execution_count": 27,
   "id": "3d7852d7-0c5c-4146-aae5-06b33be21c3e",
   "metadata": {},
   "outputs": [],
   "source": [
    "uniform_is_bound = uniform_results <= EX_RAND_NUM"
   ]
  },
  {
   "cell_type": "code",
   "execution_count": 28,
   "id": "4e0036b0-930a-41b2-99a5-9150b5a8c463",
   "metadata": {},
   "outputs": [
    {
     "data": {
      "text/plain": [
       "array([ True, False,  True, ...,  True,  True, False])"
      ]
     },
     "execution_count": 28,
     "metadata": {},
     "output_type": "execute_result"
    }
   ],
   "source": [
    "uniform_is_bound"
   ]
  },
  {
   "cell_type": "code",
   "execution_count": 29,
   "id": "560c5727-6c19-4b57-9682-ac0c7e1885e4",
   "metadata": {},
   "outputs": [
    {
     "data": {
      "text/plain": [
       "0.5084"
      ]
     },
     "execution_count": 29,
     "metadata": {},
     "output_type": "execute_result"
    }
   ],
   "source": [
    "uniform_is_bound.mean()"
   ]
  },
  {
   "cell_type": "code",
   "execution_count": 30,
   "id": "0fad0cc4-cd0f-4ff1-874f-7104402a73c2",
   "metadata": {},
   "outputs": [
    {
     "data": {
      "text/plain": [
       "<matplotlib.legend.Legend at 0x7fb8f0b422d0>"
      ]
     },
     "execution_count": 30,
     "metadata": {},
     "output_type": "execute_result"
    },
    {
     "data": {
      "image/png": "[encoded data removed]",
      "text/plain": [
       "<Figure size 1000x400 with 1 Axes>"
      ]
     },
     "metadata": {},
     "output_type": "display_data"
    }
   ],
   "source": [
    "fig, ax = plt.subplots(figsize=(10,4))\n",
    "\n",
    "sns.histplot(x=uniform_results, hue=uniform_is_bound, multiple='stack')\n",
    "\n",
    "ax.set_xlabel('Randon Value $(x)$')\n",
    "ax.set_ylabel('Count')\n",
    "ax.set_title(f'Simulated Uniform Distribution with filter on $x\\leq ${EX_RAND_NUM}')\n",
    "\n",
    "ax.legend([f'$x>${EX_RAND_NUM}',f'$x\\leq${EX_RAND_NUM}'])"
   ]
  },
  {
   "cell_type": "markdown",
   "id": "a22934db-5279-47fa-9e3a-5cf8c3174fdf",
   "metadata": {},
   "source": [
    "#### Normal Distribution\n",
    "\n",
    "<h2>$$P_x=\\frac{1}{\\sqrt{\\pi}}e^{\\frac{-x^2}{2}}; \\mu=0, \\sigma=1$$</h2>"
   ]
  },
  {
   "cell_type": "code",
   "execution_count": 32,
   "id": "2f3d6bb0-0412-47ae-8239-7607c6ffb436",
   "metadata": {},
   "outputs": [],
   "source": [
    "NUM_SIMULATIONS = 10000  # The larger, the more accurate the results\n",
    "\n",
    "OBSERVED_ZSCORE = 1.96   # z\n",
    "SAMPLE_MEAN = 0          # mu\n",
    "SAMPLE_SIGMA = 1         # SD"
   ]
  },
  {
   "cell_type": "code",
   "execution_count": 33,
   "id": "a75bd818-fd3f-46fe-8f28-a12e2ced7a2f",
   "metadata": {},
   "outputs": [],
   "source": [
    "normal_results = np.random.normal(loc=SAMPLE_MEAN, scale=SAMPLE_SIGMA, size=NUM_SIMULATIONS)"
   ]
  },
  {
   "cell_type": "code",
   "execution_count": 34,
   "id": "75b9f368-22d5-4e98-ad50-3e4228a1bee0",
   "metadata": {},
   "outputs": [
    {
     "data": {
      "text/plain": [
       "array([ 0.72103948,  1.7255414 ,  1.04068377, ..., -0.91296391,\n",
       "        1.20215893,  1.9947053 ])"
      ]
     },
     "execution_count": 34,
     "metadata": {},
     "output_type": "execute_result"
    }
   ],
   "source": [
    "normal_results"
   ]
  },
  {
   "cell_type": "code",
   "execution_count": 35,
   "id": "3aafebf8-2ba3-4e37-9f3f-0e824eb2f6ed",
   "metadata": {},
   "outputs": [],
   "source": [
    "normal_is_bound = normal_results <= OBSERVED_ZSCORE"
   ]
  },
  {
   "cell_type": "code",
   "execution_count": 36,
   "id": "a869b9a0-dde5-4240-851b-04a3fbbb5d4d",
   "metadata": {},
   "outputs": [
    {
     "data": {
      "text/plain": [
       "array([ True,  True,  True, ...,  True,  True, False])"
      ]
     },
     "execution_count": 36,
     "metadata": {},
     "output_type": "execute_result"
    }
   ],
   "source": [
    "normal_is_bound"
   ]
  },
  {
   "cell_type": "code",
   "execution_count": 37,
   "id": "75d4bf2a-d949-4097-aadd-125c82f0a4f4",
   "metadata": {},
   "outputs": [
    {
     "data": {
      "text/plain": [
       "0.9762"
      ]
     },
     "execution_count": 37,
     "metadata": {},
     "output_type": "execute_result"
    }
   ],
   "source": [
    "normal_is_bound.mean()"
   ]
  },
  {
   "cell_type": "code",
   "execution_count": 38,
   "id": "b082ad7a-2f26-47fe-8da8-7c2bd26795e3",
   "metadata": {},
   "outputs": [
    {
     "data": {
      "text/plain": [
       "<matplotlib.legend.Legend at 0x7fb8e82a0510>"
      ]
     },
     "execution_count": 38,
     "metadata": {},
     "output_type": "execute_result"
    },
    {
     "data": {
      "image/png": "[encoded data removed]",
      "text/plain": [
       "<Figure size 1000x400 with 1 Axes>"
      ]
     },
     "metadata": {},
     "output_type": "display_data"
    }
   ],
   "source": [
    "fig, ax = plt.subplots(figsize=(10,4))\n",
    "\n",
    "sns.histplot(x=normal_results, hue=normal_is_bound, multiple='stack')\n",
    "\n",
    "ax.set_xlabel('z-score $(z)$')\n",
    "ax.set_ylabel('Count')\n",
    "ax.set_title(f'Simulated Normal Distribution with filter on $z\\leq ${OBSERVED_ZSCORE}')\n",
    "\n",
    "ax.legend([f'$z>${OBSERVED_ZSCORE}',f'$z\\leq${OBSERVED_ZSCORE}'])"
   ]
  },
  {
   "cell_type": "markdown",
   "id": "a83b17c5-e3a4-498b-b65b-03758eca78b0",
   "metadata": {},
   "source": [
    "---\n",
    "\n",
    "<h3><center>END OF FILE</center></h3>\n",
    "\n",
    "---\n",
    "\n",
    "**The software is provided \"as is\", without warranty of any kind, express or implied, including but not limited to the warranties of merchantability, fitness for a particular purpose and noninfringement. in no event shall the authors or copyright holders be liable for any claim, damages or other liability, whether in an action of contract, tort or otherwise, arising from, out of or in connection with the software or the use or other dealings in the software.**"
   ]
  }
 ],
 "metadata": {
  "kernelspec": {
   "display_name": "Python 3 (ipykernel)",
   "language": "python",
   "name": "python3"
  },
  "language_info": {
   "codemirror_mode": {
    "name": "ipython",
    "version": 3
   },
   "file_extension": ".py",
   "mimetype": "text/x-python",
   "name": "python",
   "nbconvert_exporter": "python",
   "pygments_lexer": "ipython3",
   "version": "3.10.9"
  }
 },
 "nbformat": 4,
 "nbformat_minor": 5
}
