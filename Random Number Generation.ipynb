{
 "cells": [
  {
   "cell_type": "markdown",
   "id": "99de57b6-ca05-480c-9873-b8983a5123cc",
   "metadata": {},
   "source": [
    "# Random Number Generation\n",
    "## Data Analytics Notebook W1\n",
    "\n",
    "*Julyver Tolentino* | *Mapua University* | *DS22L*"
   ]
  },
  {
   "cell_type": "markdown",
   "id": "7ac1baa2-fc96-454b-86d3-17be0331d6dd",
   "metadata": {},
   "source": [
    "### Brief Details on Random Numbers in Python\n",
    "\n",
    "Python `random` library introduces the application of Random Number Generation, specifically PRNG (Pseudo-Random Number Generation). This library is eventually used by more popular Data Science libraries such as `numpy` and `pandas`.\n",
    "\n",
    "In this notebook, we would be using the `numpy` random number generation using `np.random`. Take note that there is a vast number of features and functionality `numpy` has to offer, and it is highly recommended to read documentations when using Python libraries.\n",
    "\n",
    "For `numpy` the documentation would be: https://numpy.org/doc/stable/reference/routines.html"
   ]
  },
  {
   "cell_type": "code",
   "execution_count": 1,
   "id": "ac0202a0-c631-42c1-9cc1-38c7e4b5dc73",
   "metadata": {},
   "outputs": [],
   "source": [
    "import numpy as np"
   ]
  },
  {
   "cell_type": "markdown",
   "id": "7b0522a0-4f8c-45dd-b868-be63d2898bb0",
   "metadata": {},
   "source": [
    "Another alternative to the link is to use the `help()` function and input the name of the module or the function as an argument. It would show the documentation in as its output.\n",
    "\n",
    "Examples:"
   ]
  },
  {
   "cell_type": "code",
   "execution_count": 3,
   "id": "299e2cb7-58e9-4999-9aff-8d8b26738796",
   "metadata": {},
   "outputs": [
    {
     "name": "stdout",
     "output_type": "stream",
     "text": [
      "Help on built-in function seed in module numpy.random.mtrand:\n",
      "\n",
      "seed(...)\n",
      "    seed(seed=None)\n",
      "    \n",
      "    Reseed the singleton RandomState instance.\n",
      "    \n",
      "    Notes\n",
      "    -----\n",
      "    This is a convenience, legacy function that exists to support\n",
      "    older code that uses the singleton RandomState. Best practice\n",
      "    is to use a dedicated ``Generator`` instance rather than\n",
      "    the random variate generation methods exposed directly in\n",
      "    the random module.\n",
      "    \n",
      "    See Also\n",
      "    --------\n",
      "    numpy.random.Generator\n",
      "\n"
     ]
    }
   ],
   "source": [
    "help(np.random.seed)"
   ]
  },
  {
   "cell_type": "code",
   "execution_count": 5,
   "id": "70b19ba2-cea6-49b6-9caf-04477fda2d60",
   "metadata": {},
   "outputs": [
    {
     "name": "stdout",
     "output_type": "stream",
     "text": [
      "Help on built-in function uniform:\n",
      "\n",
      "uniform(...) method of numpy.random.mtrand.RandomState instance\n",
      "    uniform(low=0.0, high=1.0, size=None)\n",
      "    \n",
      "    Draw samples from a uniform distribution.\n",
      "    \n",
      "    Samples are uniformly distributed over the half-open interval\n",
      "    ``[low, high)`` (includes low, but excludes high).  In other words,\n",
      "    any value within the given interval is equally likely to be drawn\n",
      "    by `uniform`.\n",
      "    \n",
      "    .. note::\n",
      "        New code should use the `~numpy.random.Generator.uniform`\n",
      "        method of a `~numpy.random.Generator` instance instead;\n",
      "        please see the :ref:`random-quick-start`.\n",
      "    \n",
      "    Parameters\n",
      "    ----------\n",
      "    low : float or array_like of floats, optional\n",
      "        Lower boundary of the output interval.  All values generated will be\n",
      "        greater than or equal to low.  The default value is 0.\n",
      "    high : float or array_like of floats\n",
      "        Upper boundary of the output interval.  All values generated will be\n",
      "        less than or equal to high.  The high limit may be included in the \n",
      "        returned array of floats due to floating-point rounding in the \n",
      "        equation ``low + (high-low) * random_sample()``.  The default value \n",
      "        is 1.0.\n",
      "    size : int or tuple of ints, optional\n",
      "        Output shape.  If the given shape is, e.g., ``(m, n, k)``, then\n",
      "        ``m * n * k`` samples are drawn.  If size is ``None`` (default),\n",
      "        a single value is returned if ``low`` and ``high`` are both scalars.\n",
      "        Otherwise, ``np.broadcast(low, high).size`` samples are drawn.\n",
      "    \n",
      "    Returns\n",
      "    -------\n",
      "    out : ndarray or scalar\n",
      "        Drawn samples from the parameterized uniform distribution.\n",
      "    \n",
      "    See Also\n",
      "    --------\n",
      "    randint : Discrete uniform distribution, yielding integers.\n",
      "    random_integers : Discrete uniform distribution over the closed\n",
      "                      interval ``[low, high]``.\n",
      "    random_sample : Floats uniformly distributed over ``[0, 1)``.\n",
      "    random : Alias for `random_sample`.\n",
      "    rand : Convenience function that accepts dimensions as input, e.g.,\n",
      "           ``rand(2,2)`` would generate a 2-by-2 array of floats,\n",
      "           uniformly distributed over ``[0, 1)``.\n",
      "    random.Generator.uniform: which should be used for new code.\n",
      "    \n",
      "    Notes\n",
      "    -----\n",
      "    The probability density function of the uniform distribution is\n",
      "    \n",
      "    .. math:: p(x) = \\frac{1}{b - a}\n",
      "    \n",
      "    anywhere within the interval ``[a, b)``, and zero elsewhere.\n",
      "    \n",
      "    When ``high`` == ``low``, values of ``low`` will be returned.\n",
      "    If ``high`` < ``low``, the results are officially undefined\n",
      "    and may eventually raise an error, i.e. do not rely on this\n",
      "    function to behave when passed arguments satisfying that\n",
      "    inequality condition. The ``high`` limit may be included in the\n",
      "    returned array of floats due to floating-point rounding in the\n",
      "    equation ``low + (high-low) * random_sample()``. For example:\n",
      "    \n",
      "    >>> x = np.float32(5*0.99999999)\n",
      "    >>> x\n",
      "    5.0\n",
      "    \n",
      "    \n",
      "    Examples\n",
      "    --------\n",
      "    Draw samples from the distribution:\n",
      "    \n",
      "    >>> s = np.random.uniform(-1,0,1000)\n",
      "    \n",
      "    All values are within the given interval:\n",
      "    \n",
      "    >>> np.all(s >= -1)\n",
      "    True\n",
      "    >>> np.all(s < 0)\n",
      "    True\n",
      "    \n",
      "    Display the histogram of the samples, along with the\n",
      "    probability density function:\n",
      "    \n",
      "    >>> import matplotlib.pyplot as plt\n",
      "    >>> count, bins, ignored = plt.hist(s, 15, density=True)\n",
      "    >>> plt.plot(bins, np.ones_like(bins), linewidth=2, color='r')\n",
      "    >>> plt.show()\n",
      "\n"
     ]
    }
   ],
   "source": [
    "help(np.random.uniform)"
   ]
  },
  {
   "cell_type": "code",
   "execution_count": null,
   "id": "d8f615bc-9dc2-4e8c-bf19-64d2c2830eeb",
   "metadata": {},
   "outputs": [],
   "source": []
  },
  {
   "cell_type": "markdown",
   "id": "2ac323c1-08ab-4522-b77d-c350cdc7fdfa",
   "metadata": {},
   "source": [
    "### Seeds\n",
    "\n",
    "Random number generators have an initialized state when importing the given library. However, if we choose to specify an initial state in the event that we want to reproduce the results (as a consequence of outputting the same random numbers), a seed would be passed."
   ]
  },
  {
   "cell_type": "code",
   "execution_count": 7,
   "id": "3854c563-7306-4f75-a844-948e260cb30c",
   "metadata": {},
   "outputs": [],
   "source": [
    "np.random.seed(9453)"
   ]
  },
  {
   "cell_type": "code",
   "execution_count": 9,
   "id": "db0bde2e-9c07-474d-bc5e-e2b1ae16f9b3",
   "metadata": {},
   "outputs": [
    {
     "data": {
      "text/plain": [
       "array([0.69854235, 0.3924984 , 0.67912646, 0.68830712, 0.25215612])"
      ]
     },
     "execution_count": 9,
     "metadata": {},
     "output_type": "execute_result"
    }
   ],
   "source": [
    "np.random.uniform(size=5)"
   ]
  },
  {
   "cell_type": "markdown",
   "id": "b0b78b60-06ee-4e10-96e4-4b3cd0189541",
   "metadata": {},
   "source": [
    "Inputting the same seed would yield the same results."
   ]
  },
  {
   "cell_type": "code",
   "execution_count": 14,
   "id": "ecbec27a-bbff-48be-95c1-2871e0f7aba5",
   "metadata": {},
   "outputs": [],
   "source": [
    "np.random.seed(9453)"
   ]
  },
  {
   "cell_type": "code",
   "execution_count": 16,
   "id": "f7e278fe-8cd5-4c62-807e-af6a7e91e8b2",
   "metadata": {},
   "outputs": [
    {
     "data": {
      "text/plain": [
       "array([0.69854235, 0.3924984 , 0.67912646, 0.68830712, 0.25215612])"
      ]
     },
     "execution_count": 16,
     "metadata": {},
     "output_type": "execute_result"
    }
   ],
   "source": [
    "np.random.uniform(size=5)"
   ]
  },
  {
   "cell_type": "code",
   "execution_count": 18,
   "id": "6df0f960-da0a-4265-9b5d-d35f9ddb871f",
   "metadata": {},
   "outputs": [],
   "source": [
    "np.random.seed(6639)"
   ]
  },
  {
   "cell_type": "code",
   "execution_count": 20,
   "id": "4578542c-7820-4abd-9d7c-07d388c42588",
   "metadata": {},
   "outputs": [
    {
     "data": {
      "text/plain": [
       "array([0.38261128, 0.73313571, 0.89476862, 0.81982919, 0.64044863])"
      ]
     },
     "execution_count": 20,
     "metadata": {},
     "output_type": "execute_result"
    }
   ],
   "source": [
    "np.random.uniform(size=5)"
   ]
  },
  {
   "cell_type": "markdown",
   "id": "d1affe55-4532-474d-ac0d-55d85f3a620d",
   "metadata": {},
   "source": [
    "### Generator Types\n",
    "\n",
    "There are several types of generators that `numpy` can use. The differences and use cases for each generator are bound to the specific and edge cases however, the nature of generating some sense of randomness is applied to most of the random generators that is given.\n",
    "\n",
    "Types of applicable generators:\n",
    "- `PCG64()`\n",
    "- `PCG64DXSM()`\n",
    "- `MT19937()`\n",
    "- `Philox()`\n",
    "- `SFC64()`\n",
    "\n",
    "Details for each generator found in: https://numpy.org/doc/stable/reference/random/bit_generators/index.html"
   ]
  },
  {
   "cell_type": "code",
   "execution_count": 23,
   "id": "06f20504-4909-45fa-9144-d41070ef3368",
   "metadata": {},
   "outputs": [
    {
     "data": {
      "text/plain": [
       "Generator(PCG64) at 0x7F5919D7C4A0"
      ]
     },
     "execution_count": 23,
     "metadata": {},
     "output_type": "execute_result"
    }
   ],
   "source": [
    "# Global generator used by numpy\n",
    "np.random.default_rng()"
   ]
  },
  {
   "cell_type": "code",
   "execution_count": 25,
   "id": "a1c0cfd0-88da-472c-9ff6-de1bf0a9a52e",
   "metadata": {},
   "outputs": [
    {
     "data": {
      "text/plain": [
       "Generator(Philox) at 0x7F5919D7C580"
      ]
     },
     "execution_count": 25,
     "metadata": {},
     "output_type": "execute_result"
    }
   ],
   "source": [
    "new_generator = np.random.default_rng(np.random.Philox())\n",
    "new_generator"
   ]
  },
  {
   "cell_type": "code",
   "execution_count": 27,
   "id": "8e6ada36-cd64-4e01-affb-28474a3c3ff5",
   "metadata": {},
   "outputs": [
    {
     "data": {
      "text/plain": [
       "array([0.52166817, 0.10179893, 0.18465011, 0.40866538, 0.12993079])"
      ]
     },
     "execution_count": 27,
     "metadata": {},
     "output_type": "execute_result"
    }
   ],
   "source": [
    "new_generator.random(size=5)"
   ]
  },
  {
   "cell_type": "code",
   "execution_count": 29,
   "id": "2d3d1127-3556-4d85-8531-a3d8c35a2eb8",
   "metadata": {},
   "outputs": [
    {
     "data": {
      "text/plain": [
       "Generator(PCG64DXSM) at 0x7F5919D7CE40"
      ]
     },
     "execution_count": 29,
     "metadata": {},
     "output_type": "execute_result"
    }
   ],
   "source": [
    "another_generator = np.random.default_rng(np.random.PCG64DXSM())\n",
    "another_generator"
   ]
  },
  {
   "cell_type": "code",
   "execution_count": 31,
   "id": "982de2f7-d425-49c7-a7c7-dc77b839293e",
   "metadata": {},
   "outputs": [
    {
     "data": {
      "text/plain": [
       "array([0.24861372, 0.13731212, 0.60570204, 0.13595878, 0.57065875])"
      ]
     },
     "execution_count": 31,
     "metadata": {},
     "output_type": "execute_result"
    }
   ],
   "source": [
    "another_generator.random(size=5)"
   ]
  },
  {
   "cell_type": "markdown",
   "id": "2d5bde56-70eb-443e-b5f6-e4472571bef6",
   "metadata": {},
   "source": [
    "### Generating Random Numbers\n",
    "\n",
    "`numpy` offers pre-made functions to generate random numbers from a given distribution, whether discrete or continuous. Here are some of the functions used. More distributions can be seen from the `numpy.random` documentation.\n",
    "\n",
    "https://numpy.org/doc/stable/reference/random/legacy.html"
   ]
  },
  {
   "cell_type": "code",
   "execution_count": 33,
   "id": "3ff426cf-7b7c-43bc-aaf7-114d1ae5c71c",
   "metadata": {},
   "outputs": [],
   "source": [
    "# For visualizing distributions\n",
    "import matplotlib.pyplot as plt\n",
    "import seaborn as sns"
   ]
  },
  {
   "cell_type": "code",
   "execution_count": 34,
   "id": "15150c6d-e6ad-4be5-a07d-1ca16c63ba05",
   "metadata": {},
   "outputs": [
    {
     "data": {
      "text/plain": [
       "array([8, 8, 8, 6, 6, 8, 8, 8, 6, 5])"
      ]
     },
     "execution_count": 34,
     "metadata": {},
     "output_type": "execute_result"
    }
   ],
   "source": [
    "list_to_choose = [5,6,8]\n",
    "\n",
    "choose_results = np.random.choice(list_to_choose, size=10)\n",
    "choose_results"
   ]
  },
  {
   "cell_type": "code",
   "execution_count": 37,
   "id": "46f80af0-5823-4f95-9df4-ceabbd508376",
   "metadata": {},
   "outputs": [
    {
     "data": {
      "text/plain": [
       "Text(0.5, 1.0, 'Countplot of `np.random.choice`')"
      ]
     },
     "execution_count": 37,
     "metadata": {},
     "output_type": "execute_result"
    },
    {
     "data": {
      "image/png": "[encoded data removed]",
      "text/plain": [
       "<Figure size 640x480 with 1 Axes>"
      ]
     },
     "metadata": {},
     "output_type": "display_data"
    }
   ],
   "source": [
    "fig, ax = plt.subplots()\n",
    "sns.countplot(x=choose_results, ax=ax)\n",
    "\n",
    "ax.set_xlabel('Numbers to Choose')\n",
    "ax.set_ylabel('Count')\n",
    "ax.set_title('Countplot of `np.random.choice`')"
   ]
  },
  {
   "cell_type": "code",
   "execution_count": 39,
   "id": "779b1722-5503-4e90-acae-af516f4738a6",
   "metadata": {},
   "outputs": [
    {
     "data": {
      "text/plain": [
       "array([ 1.9413414 , -0.34730922,  3.771044  ,  8.26144172,  6.75390726,\n",
       "        1.93852465, -3.46488223, -0.14650796, -2.22264157, -1.50634499])"
      ]
     },
     "execution_count": 39,
     "metadata": {},
     "output_type": "execute_result"
    }
   ],
   "source": [
    "mu = 2\n",
    "sigma = 3\n",
    "\n",
    "normal_values = np.random.normal(loc=mu, scale=sigma, size=120)\n",
    "normal_values[:10]"
   ]
  },
  {
   "cell_type": "code",
   "execution_count": 41,
   "id": "1c2fbe8d-1b47-4d82-9281-42b431ee0fdf",
   "metadata": {},
   "outputs": [
    {
     "data": {
      "text/plain": [
       "Text(0.5, 1.0, 'Example Histogram of Random Normal Numbers')"
      ]
     },
     "execution_count": 41,
     "metadata": {},
     "output_type": "execute_result"
    },
    {
     "data": {
      "image/png": "[encoded data removed]",
      "text/plain": [
       "<Figure size 640x480 with 1 Axes>"
      ]
     },
     "metadata": {},
     "output_type": "display_data"
    }
   ],
   "source": [
    "fig, ax = plt.subplots()\n",
    "sns.histplot(x=normal_values, ax=ax)\n",
    "\n",
    "ax.set_xlabel('Random Number')\n",
    "ax.set_ylabel('Count')\n",
    "ax.set_title('Example Histogram of Random Normal Numbers')"
   ]
  },
  {
   "cell_type": "code",
   "execution_count": 43,
   "id": "a3bc8973-00a5-4eb2-9cb8-9b42f14e2e2b",
   "metadata": {},
   "outputs": [
    {
     "data": {
      "text/plain": [
       "array([8.4108523 , 8.94895941, 9.86811437, 8.04154391, 9.07000193])"
      ]
     },
     "execution_count": 43,
     "metadata": {},
     "output_type": "execute_result"
    }
   ],
   "source": [
    "np.random.uniform(low=8, high=10, size=5)"
   ]
  },
  {
   "cell_type": "code",
   "execution_count": 45,
   "id": "496cd5c1-610a-49a2-81e7-71e83cf2c0b5",
   "metadata": {},
   "outputs": [
    {
     "data": {
      "text/plain": [
       "array([0.23689951, 0.39637597, 0.39067787, 0.52277751, 0.54160147])"
      ]
     },
     "execution_count": 45,
     "metadata": {},
     "output_type": "execute_result"
    }
   ],
   "source": [
    "# Uses the Philox Generator in the previous chapter\n",
    "new_generator.uniform(size=5)"
   ]
  },
  {
   "cell_type": "markdown",
   "id": "2c2665a8-6446-4501-b5c4-35d271ec46ea",
   "metadata": {},
   "source": [
    "### Creating Custom Distributions\n",
    "\n",
    "There might be cases that a specific distribution is needed in a given task but it is not available in `numpy.random` module. In this scenario, we would utilize the \"Inverse Transform Method\" from `np.random.uniform` random numbers to achieve the distribution that we desire.\n",
    "\n",
    "For example: We wanted to get a distribution from the function:\n",
    "\n",
    "<h2>$$f(x)=3x^2$$</h2>"
   ]
  },
  {
   "cell_type": "code",
   "execution_count": 47,
   "id": "fd6ba8ca-235d-4f55-ad05-fa20c3952721",
   "metadata": {},
   "outputs": [
    {
     "data": {
      "text/plain": [
       "Text(0.5, 1.0, '$f(x)=3x^2$')"
      ]
     },
     "execution_count": 47,
     "metadata": {},
     "output_type": "execute_result"
    },
    {
     "data": {
      "image/png": "[encoded data removed]",
      "text/plain": [
       "<Figure size 640x480 with 1 Axes>"
      ]
     },
     "metadata": {},
     "output_type": "display_data"
    }
   ],
   "source": [
    "fig, ax = plt.subplots()\n",
    "\n",
    "xdata = np.linspace(0, 1)\n",
    "ydata = 3*xdata**2\n",
    "\n",
    "sns.lineplot(x=xdata, y=ydata, ax=ax)\n",
    "ax.set_title('$f(x)=3x^2$')"
   ]
  },
  {
   "cell_type": "markdown",
   "id": "84604c2a-f416-41ca-936c-087056d3aa5a",
   "metadata": {},
   "source": [
    "If we wanted to create a histogram that follows the shape of the given curve, we would have to follow the given steps in the inverse transform method.\n",
    "\n",
    "Inverse Transform Method:\n",
    "1. Compute for the integral of the function\n",
    "2. Inverse the resulting function.\n",
    "3. Get uniform random numbers from 0 to 1 and pass them through the inverse function.\n",
    "\n",
    "In this example:\n",
    "\n",
    "1. The computed integral would be:\n",
    "\n",
    "<h2>$$F(x)=x^3+C$$</h2>\n",
    "\n",
    "2. Inversing the function (removing the constant $C$) would convert to:\n",
    "\n",
    "<h2>$$F^{-1}(x)=\\sqrt[3]{x}$$</h2>\n",
    "\n",
    "3. From the given inverse function, generate random numbers from 0-1 then use as input to the inverse function."
   ]
  },
  {
   "cell_type": "code",
   "execution_count": 49,
   "id": "89640be5-f561-4b77-ae08-d8dcff142a8a",
   "metadata": {},
   "outputs": [
    {
     "data": {
      "text/plain": [
       "array([0.01314188, 0.82526757, 0.69975015, 0.01042062, 0.70483832,\n",
       "       0.15103202, 0.96697291, 0.46440316, 0.43573935, 0.89120742])"
      ]
     },
     "execution_count": 49,
     "metadata": {},
     "output_type": "execute_result"
    }
   ],
   "source": [
    "random_nums = np.random.uniform(size=50000)\n",
    "random_nums[:10]"
   ]
  },
  {
   "cell_type": "code",
   "execution_count": 51,
   "id": "463204bf-b953-47ac-933d-c5097788b9c2",
   "metadata": {},
   "outputs": [
    {
     "data": {
      "text/plain": [
       "array([0.23598577, 0.93799011, 0.88779835, 0.21842275, 0.889945  ,\n",
       "       0.53254504, 0.9888675 , 0.77439948, 0.75812752, 0.96233496])"
      ]
     },
     "execution_count": 51,
     "metadata": {},
     "output_type": "execute_result"
    }
   ],
   "source": [
    "y_transformed = np.cbrt(random_nums)  # Inverse function\n",
    "y_transformed[:10]"
   ]
  },
  {
   "cell_type": "markdown",
   "id": "c99e652b-4688-47fc-9d3c-ebbd92032d64",
   "metadata": {},
   "source": [
    "Getting the histogram of the transformed numbers would yield to:"
   ]
  },
  {
   "cell_type": "code",
   "execution_count": 53,
   "id": "cdb54429-a569-4275-b3a8-626908f04885",
   "metadata": {},
   "outputs": [
    {
     "data": {
      "text/plain": [
       "Text(0.5, 1.0, 'Distribution of $f(x)=3x^2$')"
      ]
     },
     "execution_count": 53,
     "metadata": {},
     "output_type": "execute_result"
    },
    {
     "data": {
      "image/png": "[encoded data removed]",
      "text/plain": [
       "<Figure size 640x480 with 2 Axes>"
      ]
     },
     "metadata": {},
     "output_type": "display_data"
    }
   ],
   "source": [
    "fig, ax = plt.subplots()\n",
    "ax2 = ax.twinx()\n",
    "\n",
    "xdata = np.linspace(0, 1)\n",
    "ydata = xdata**2\n",
    "\n",
    "sns.lineplot(x=xdata, y=ydata, color='red', ax=ax, label='Actual Function')\n",
    "ax.set_ylim(0,1)\n",
    "\n",
    "sns.histplot(x=y_transformed, ax=ax2)\n",
    "\n",
    "ax.set_title('Distribution of $f(x)=3x^2$')"
   ]
  },
  {
   "cell_type": "markdown",
   "id": "a83b17c5-e3a4-498b-b65b-03758eca78b0",
   "metadata": {},
   "source": [
    "---\n",
    "\n",
    "<h3><center>END OF FILE</center></h3>\n",
    "\n",
    "---\n",
    "\n",
    "**The software is provided \"as is\", without warranty of any kind, express or implied, including but not limited to the warranties of merchantability, fitness for a particular purpose and noninfringement. in no event shall the authors or copyright holders be liable for any claim, damages or other liability, whether in an action of contract, tort or otherwise, arising from, out of or in connection with the software or the use or other dealings in the software.**"
   ]
  }
 ],
 "metadata": {
  "kernelspec": {
   "display_name": "Python 3 (ipykernel)",
   "language": "python",
   "name": "python3"
  },
  "language_info": {
   "codemirror_mode": {
    "name": "ipython",
    "version": 3
   },
   "file_extension": ".py",
   "mimetype": "text/x-python",
   "name": "python",
   "nbconvert_exporter": "python",
   "pygments_lexer": "ipython3",
   "version": "3.10.9"
  }
 },
 "nbformat": 4,
 "nbformat_minor": 5
}
