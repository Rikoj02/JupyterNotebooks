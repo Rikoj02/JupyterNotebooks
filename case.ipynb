{
 "cells": [
  {
   "cell_type": "code",
   "execution_count": 2,
   "id": "c868b6ff-0c34-4dbc-9e2b-9cdfb43814e2",
   "metadata": {
    "tags": []
   },
   "outputs": [],
   "source": [
    "import pandas as pd\n",
    "import numpy as np\n",
    "import matplotlib.pyplot as plt\n",
    "import seaborn as sns\n",
    "from datascience import Table\n",
    "import scipy as sp\n",
    "%matplotlib inline\n",
    "import statsmodels.formula.api as smf\n",
    "plt.style.use('fivethirtyeight')"
   ]
  },
  {
   "cell_type": "code",
   "execution_count": 3,
   "id": "f74d02cd-a0d3-4ed6-adef-e2ade04640db",
   "metadata": {
    "tags": []
   },
   "outputs": [],
   "source": [
    "df = pd.read_csv('Family-Income-and-Expenditure.csv')"
   ]
  },
  {
   "cell_type": "code",
   "execution_count": 4,
   "id": "479886c1-35fc-4a08-abdb-ea1d77600bf2",
   "metadata": {
    "tags": []
   },
   "outputs": [
    {
     "data": {
      "text/plain": [
       "Index(['Total Household Income', 'Region', 'Total Food Expenditure',\n",
       "       'Main Source of Income', 'Agricultural Household indicator',\n",
       "       'Bread and Cereals Expenditure', 'Total Rice Expenditure',\n",
       "       'Meat Expenditure', 'Total Fish and  marine products Expenditure',\n",
       "       'Fruit Expenditure', 'Vegetables Expenditure',\n",
       "       'Restaurant and hotels Expenditure', 'Alcoholic Beverages Expenditure',\n",
       "       'Tobacco Expenditure', 'Clothing, Footwear and Other Wear Expenditure',\n",
       "       'Housing and water Expenditure', 'Imputed House Rental Value',\n",
       "       'Medical Care Expenditure', 'Transportation Expenditure',\n",
       "       'Communication Expenditure', 'Education Expenditure',\n",
       "       'Miscellaneous Goods and Services Expenditure',\n",
       "       'Special Occasions Expenditure', 'Crop Farming and Gardening expenses',\n",
       "       'Total Income from Entrepreneurial Acitivites', 'Household Head Sex',\n",
       "       'Household Head Age', 'Household Head Marital Status',\n",
       "       'Household Head Highest Grade Completed',\n",
       "       'Household Head Job or Business Indicator', 'Household Head Occupation',\n",
       "       'Household Head Class of Worker', 'Type of Household',\n",
       "       'Total Number of Family members',\n",
       "       'Members with age less than 5 year old',\n",
       "       'Members with age 5 - 17 years old',\n",
       "       'Total number of family members employed', 'Type of Building/House',\n",
       "       'Type of Roof', 'Type of Walls', 'House Floor Area', 'House Age',\n",
       "       'Number of bedrooms', 'Tenure Status', 'Toilet Facilities',\n",
       "       'Electricity', 'Main Source of Water Supply', 'Number of Television',\n",
       "       'Number of CD/VCD/DVD', 'Number of Component/Stereo set',\n",
       "       'Number of Refrigerator/Freezer', 'Number of Washing Machine',\n",
       "       'Number of Airconditioner', 'Number of Car, Jeep, Van',\n",
       "       'Number of Landline/wireless telephones', 'Number of Cellular phone',\n",
       "       'Number of Personal Computer', 'Number of Stove with Oven/Gas Range',\n",
       "       'Number of Motorized Banca', 'Number of Motorcycle/Tricycle'],\n",
       "      dtype='object')"
      ]
     },
     "execution_count": 4,
     "metadata": {},
     "output_type": "execute_result"
    }
   ],
   "source": [
    "df.columns"
   ]
  },
  {
   "cell_type": "code",
   "execution_count": 5,
   "id": "6946ad63-21a5-4ada-8ed8-3427943ecd47",
   "metadata": {
    "tags": []
   },
   "outputs": [
    {
     "data": {
      "text/plain": [
       "array(['CAR', 'Caraga', 'VI - Western Visayas', 'V - Bicol Region',\n",
       "       ' ARMM', 'III - Central Luzon', 'II - Cagayan Valley',\n",
       "       'IVA - CALABARZON', 'VII - Central Visayas',\n",
       "       'X - Northern Mindanao', 'XI - Davao Region',\n",
       "       'VIII - Eastern Visayas', 'I - Ilocos Region', 'NCR',\n",
       "       'IVB - MIMAROPA', 'XII - SOCCSKSARGEN', 'IX - Zasmboanga Peninsula'], dtype=object)"
      ]
     },
     "execution_count": 5,
     "metadata": {},
     "output_type": "execute_result"
    }
   ],
   "source": [
    "df['Region'].unique()"
   ]
  },
  {
   "cell_type": "code",
   "execution_count": 6,
   "id": "fd55a276-d4d4-4da0-a909-9401db3a2688",
   "metadata": {
    "tags": []
   },
   "outputs": [
    {
     "data": {
      "text/plain": [
       "array(['CAR', 'Caraga', 'VI', 'V', 'ARMM', 'III', 'II', 'IVA', 'VII', 'X',\n",
       "       'XI', 'VIII', 'I', 'NCR', 'IVB', 'XII', 'IX'], dtype=object)"
      ]
     },
     "execution_count": 6,
     "metadata": {},
     "output_type": "execute_result"
    }
   ],
   "source": [
    "df['Region'] = df['Region'].apply(lambda x: x.strip())\n",
    "df['Region'] = df['Region'].str.split().str[:1].str.join('')\n",
    "df['Region'].unique()"
   ]
  },
  {
   "cell_type": "code",
   "execution_count": 7,
   "id": "a478df3f-a443-469d-ac5d-8cf5f1a02b7e",
   "metadata": {
    "tags": []
   },
   "outputs": [],
   "source": [
    "region_to_island = {\n",
    "    'Luzon': ['I', 'II', 'III', 'IVA', 'IVB', 'V', 'CAR',],\n",
    "    'NCR': ['NCR'],\n",
    "    'Visayas': ['VI', 'VII', 'VIII'],\n",
    "    'Mindanao': ['IX', 'X', 'XI', 'XII', 'Caraga', 'ARMM']\n",
    "}\n",
    "\n",
    "df['Island'] = df['Region'].apply(\n",
    "    lambda x: next(island for island, regions in region_to_island.items() if x in regions))\n"
   ]
  },
  {
   "cell_type": "code",
   "execution_count": 8,
   "id": "b947c241-3df6-4262-96fe-c3ce2b6e03f7",
   "metadata": {
    "tags": []
   },
   "outputs": [],
   "source": [
    "df = df[['Island', 'Total Household Income', 'Transportation Expenditure']]"
   ]
  },
  {
   "cell_type": "code",
   "execution_count": 9,
   "id": "6b437683-25ba-4d67-abc6-cd2568320b05",
   "metadata": {
    "tags": []
   },
   "outputs": [],
   "source": [
    "df['Percentage'] = df['Transportation Expenditure'] / df['Total Household Income'] * 100"
   ]
  },
  {
   "cell_type": "code",
   "execution_count": 10,
   "id": "06eb7e21-535f-4a69-9b74-7e446f82a8ba",
   "metadata": {
    "tags": []
   },
   "outputs": [],
   "source": [
    "df1 = df.groupby(['Island']).mean()"
   ]
  },
  {
   "cell_type": "code",
   "execution_count": 11,
   "id": "d964c75c-e0ed-4709-8025-59df97022b8f",
   "metadata": {
    "tags": []
   },
   "outputs": [],
   "source": [
    "luzon = df[df['Island'] == 'Luzon']['Percentage']\n",
    "visayas = df[df['Island'] == 'Visayas']['Percentage']\n",
    "mindanao = df[df['Island'] == 'Mindanao']['Percentage']\n",
    "ncr = df[df['Island'] == 'NCR']['Percentage']"
   ]
  },
  {
   "cell_type": "code",
   "execution_count": 12,
   "id": "d4e6351a-501c-4739-993a-3df099cf91ed",
   "metadata": {
    "tags": []
   },
   "outputs": [],
   "source": [
    "def meanBootstrap(x, n):\n",
    "    data = []\n",
    "    for i in range(n):\n",
    "        bs = np.random.choice(x, len(x))\n",
    "        data = np.append(data, bs)\n",
    "    return data.mean()"
   ]
  },
  {
   "cell_type": "code",
   "execution_count": 13,
   "id": "f6a06af4-9003-4aa4-a056-5f7a8b604b84",
   "metadata": {
    "tags": []
   },
   "outputs": [],
   "source": [
    "n = 1000\n",
    "bootstrappedPercentage = [meanBootstrap(luzon, n),\n",
    "                          meanBootstrap(mindanao, n),\n",
    "                          meanBootstrap(ncr, n),\n",
    "                          meanBootstrap(visayas, n)]\n",
    "\n",
    "df1['Bootstrapped Percentage'] = bootstrappedPercentage"
   ]
  },
  {
   "cell_type": "code",
   "execution_count": 14,
   "id": "f38ac4d6-ff75-4d68-bc4a-e7fe8fe2f021",
   "metadata": {
    "tags": []
   },
   "outputs": [
    {
     "data": {
      "text/html": [
       "<div>\n",
       "<style scoped>\n",
       "    .dataframe tbody tr th:only-of-type {\n",
       "        vertical-align: middle;\n",
       "    }\n",
       "\n",
       "    .dataframe tbody tr th {\n",
       "        vertical-align: top;\n",
       "    }\n",
       "\n",
       "    .dataframe thead th {\n",
       "        text-align: right;\n",
       "    }\n",
       "</style>\n",
       "<table border=\"1\" class=\"dataframe\">\n",
       "  <thead>\n",
       "    <tr style=\"text-align: right;\">\n",
       "      <th></th>\n",
       "      <th>Total Household Income</th>\n",
       "      <th>Transportation Expenditure</th>\n",
       "      <th>Percentage</th>\n",
       "      <th>Bootstrapped Percentage</th>\n",
       "    </tr>\n",
       "    <tr>\n",
       "      <th>Island</th>\n",
       "      <th></th>\n",
       "      <th></th>\n",
       "      <th></th>\n",
       "      <th></th>\n",
       "    </tr>\n",
       "  </thead>\n",
       "  <tbody>\n",
       "    <tr>\n",
       "      <th>Luzon</th>\n",
       "      <td>257928.901390</td>\n",
       "      <td>12556.461061</td>\n",
       "      <td>4.585537</td>\n",
       "      <td>4.585847</td>\n",
       "    </tr>\n",
       "    <tr>\n",
       "      <th>Mindanao</th>\n",
       "      <td>193103.696407</td>\n",
       "      <td>8626.175018</td>\n",
       "      <td>4.227119</td>\n",
       "      <td>4.226382</td>\n",
       "    </tr>\n",
       "    <tr>\n",
       "      <th>NCR</th>\n",
       "      <td>420861.861501</td>\n",
       "      <td>22546.104116</td>\n",
       "      <td>5.146213</td>\n",
       "      <td>5.145227</td>\n",
       "    </tr>\n",
       "    <tr>\n",
       "      <th>Visayas</th>\n",
       "      <td>218045.029111</td>\n",
       "      <td>9427.509121</td>\n",
       "      <td>4.302561</td>\n",
       "      <td>4.302057</td>\n",
       "    </tr>\n",
       "  </tbody>\n",
       "</table>\n",
       "</div>"
      ],
      "text/plain": [
       "          Total Household Income  Transportation Expenditure  Percentage  \\\n",
       "Island                                                                     \n",
       "Luzon              257928.901390                12556.461061    4.585537   \n",
       "Mindanao           193103.696407                 8626.175018    4.227119   \n",
       "NCR                420861.861501                22546.104116    5.146213   \n",
       "Visayas            218045.029111                 9427.509121    4.302561   \n",
       "\n",
       "          Bootstrapped Percentage  \n",
       "Island                             \n",
       "Luzon                    4.585847  \n",
       "Mindanao                 4.226382  \n",
       "NCR                      5.145227  \n",
       "Visayas                  4.302057  "
      ]
     },
     "execution_count": 14,
     "metadata": {},
     "output_type": "execute_result"
    }
   ],
   "source": [
    "df1"
   ]
  },
  {
   "cell_type": "code",
   "execution_count": 15,
   "id": "534d74ef-15fc-491d-b53c-2b4499da169b",
   "metadata": {
    "tags": []
   },
   "outputs": [],
   "source": [
    "odf = pd.read_csv('Family-Income-and-Expenditure.csv')"
   ]
  },
  {
   "cell_type": "code",
   "execution_count": 16,
   "id": "40af3308-f12c-40b0-bbdf-f552c63a9592",
   "metadata": {
    "tags": []
   },
   "outputs": [],
   "source": [
    "vehicle = odf[['Number of Car, Jeep, Van', \n",
    "               'Number of Motorcycle/Tricycle',\n",
    "               'Number of Motorized Banca']]"
   ]
  },
  {
   "cell_type": "code",
   "execution_count": 17,
   "id": "82e434d2-e5cd-4243-a63a-f38cd5c819c0",
   "metadata": {
    "tags": []
   },
   "outputs": [],
   "source": [
    "df = df.join(vehicle, how = 'outer')"
   ]
  },
  {
   "cell_type": "code",
   "execution_count": 18,
   "id": "c282f6b6-1bb5-4f7c-b261-e2159361d45d",
   "metadata": {
    "tags": []
   },
   "outputs": [],
   "source": [
    "df['numbvehicle'] = df['Number of Car, Jeep, Van'] + df['Number of Motorcycle/Tricycle'] + df['Number of Motorized Banca']"
   ]
  },
  {
   "cell_type": "code",
   "execution_count": 19,
   "id": "b7dc2adb-0117-4b89-8e71-aa2d453330c5",
   "metadata": {
    "tags": []
   },
   "outputs": [
    {
     "data": {
      "text/html": [
       "<div>\n",
       "<style scoped>\n",
       "    .dataframe tbody tr th:only-of-type {\n",
       "        vertical-align: middle;\n",
       "    }\n",
       "\n",
       "    .dataframe tbody tr th {\n",
       "        vertical-align: top;\n",
       "    }\n",
       "\n",
       "    .dataframe thead th {\n",
       "        text-align: right;\n",
       "    }\n",
       "</style>\n",
       "<table border=\"1\" class=\"dataframe\">\n",
       "  <thead>\n",
       "    <tr style=\"text-align: right;\">\n",
       "      <th></th>\n",
       "      <th>Island</th>\n",
       "      <th>Total Household Income</th>\n",
       "      <th>Transportation Expenditure</th>\n",
       "      <th>Percentage</th>\n",
       "      <th>Number of Car, Jeep, Van</th>\n",
       "      <th>Number of Motorcycle/Tricycle</th>\n",
       "      <th>Number of Motorized Banca</th>\n",
       "      <th>numbvehicle</th>\n",
       "    </tr>\n",
       "  </thead>\n",
       "  <tbody>\n",
       "    <tr>\n",
       "      <th>0</th>\n",
       "      <td>Luzon</td>\n",
       "      <td>480332</td>\n",
       "      <td>4776</td>\n",
       "      <td>0.994312</td>\n",
       "      <td>0</td>\n",
       "      <td>1</td>\n",
       "      <td>0</td>\n",
       "      <td>1</td>\n",
       "    </tr>\n",
       "    <tr>\n",
       "      <th>1</th>\n",
       "      <td>Luzon</td>\n",
       "      <td>198235</td>\n",
       "      <td>12900</td>\n",
       "      <td>6.507428</td>\n",
       "      <td>0</td>\n",
       "      <td>2</td>\n",
       "      <td>0</td>\n",
       "      <td>2</td>\n",
       "    </tr>\n",
       "    <tr>\n",
       "      <th>2</th>\n",
       "      <td>Luzon</td>\n",
       "      <td>82785</td>\n",
       "      <td>324</td>\n",
       "      <td>0.391375</td>\n",
       "      <td>0</td>\n",
       "      <td>0</td>\n",
       "      <td>0</td>\n",
       "      <td>0</td>\n",
       "    </tr>\n",
       "    <tr>\n",
       "      <th>3</th>\n",
       "      <td>Luzon</td>\n",
       "      <td>107589</td>\n",
       "      <td>6840</td>\n",
       "      <td>6.357527</td>\n",
       "      <td>0</td>\n",
       "      <td>0</td>\n",
       "      <td>0</td>\n",
       "      <td>0</td>\n",
       "    </tr>\n",
       "    <tr>\n",
       "      <th>4</th>\n",
       "      <td>Luzon</td>\n",
       "      <td>189322</td>\n",
       "      <td>6996</td>\n",
       "      <td>3.695292</td>\n",
       "      <td>0</td>\n",
       "      <td>1</td>\n",
       "      <td>0</td>\n",
       "      <td>1</td>\n",
       "    </tr>\n",
       "    <tr>\n",
       "      <th>...</th>\n",
       "      <td>...</td>\n",
       "      <td>...</td>\n",
       "      <td>...</td>\n",
       "      <td>...</td>\n",
       "      <td>...</td>\n",
       "      <td>...</td>\n",
       "      <td>...</td>\n",
       "      <td>...</td>\n",
       "    </tr>\n",
       "    <tr>\n",
       "      <th>41539</th>\n",
       "      <td>Mindanao</td>\n",
       "      <td>119773</td>\n",
       "      <td>2124</td>\n",
       "      <td>1.773355</td>\n",
       "      <td>0</td>\n",
       "      <td>0</td>\n",
       "      <td>0</td>\n",
       "      <td>0</td>\n",
       "    </tr>\n",
       "    <tr>\n",
       "      <th>41540</th>\n",
       "      <td>Mindanao</td>\n",
       "      <td>137320</td>\n",
       "      <td>2568</td>\n",
       "      <td>1.870084</td>\n",
       "      <td>0</td>\n",
       "      <td>0</td>\n",
       "      <td>0</td>\n",
       "      <td>0</td>\n",
       "    </tr>\n",
       "    <tr>\n",
       "      <th>41541</th>\n",
       "      <td>Mindanao</td>\n",
       "      <td>133171</td>\n",
       "      <td>2040</td>\n",
       "      <td>1.531865</td>\n",
       "      <td>0</td>\n",
       "      <td>0</td>\n",
       "      <td>0</td>\n",
       "      <td>0</td>\n",
       "    </tr>\n",
       "    <tr>\n",
       "      <th>41542</th>\n",
       "      <td>Mindanao</td>\n",
       "      <td>129500</td>\n",
       "      <td>2412</td>\n",
       "      <td>1.862548</td>\n",
       "      <td>0</td>\n",
       "      <td>0</td>\n",
       "      <td>0</td>\n",
       "      <td>0</td>\n",
       "    </tr>\n",
       "    <tr>\n",
       "      <th>41543</th>\n",
       "      <td>Mindanao</td>\n",
       "      <td>128598</td>\n",
       "      <td>1560</td>\n",
       "      <td>1.213083</td>\n",
       "      <td>0</td>\n",
       "      <td>0</td>\n",
       "      <td>0</td>\n",
       "      <td>0</td>\n",
       "    </tr>\n",
       "  </tbody>\n",
       "</table>\n",
       "<p>41544 rows × 8 columns</p>\n",
       "</div>"
      ],
      "text/plain": [
       "         Island  Total Household Income  Transportation Expenditure  \\\n",
       "0         Luzon                  480332                        4776   \n",
       "1         Luzon                  198235                       12900   \n",
       "2         Luzon                   82785                         324   \n",
       "3         Luzon                  107589                        6840   \n",
       "4         Luzon                  189322                        6996   \n",
       "...         ...                     ...                         ...   \n",
       "41539  Mindanao                  119773                        2124   \n",
       "41540  Mindanao                  137320                        2568   \n",
       "41541  Mindanao                  133171                        2040   \n",
       "41542  Mindanao                  129500                        2412   \n",
       "41543  Mindanao                  128598                        1560   \n",
       "\n",
       "       Percentage  Number of Car, Jeep, Van  Number of Motorcycle/Tricycle  \\\n",
       "0        0.994312                         0                              1   \n",
       "1        6.507428                         0                              2   \n",
       "2        0.391375                         0                              0   \n",
       "3        6.357527                         0                              0   \n",
       "4        3.695292                         0                              1   \n",
       "...           ...                       ...                            ...   \n",
       "41539    1.773355                         0                              0   \n",
       "41540    1.870084                         0                              0   \n",
       "41541    1.531865                         0                              0   \n",
       "41542    1.862548                         0                              0   \n",
       "41543    1.213083                         0                              0   \n",
       "\n",
       "       Number of Motorized Banca  numbvehicle  \n",
       "0                              0            1  \n",
       "1                              0            2  \n",
       "2                              0            0  \n",
       "3                              0            0  \n",
       "4                              0            1  \n",
       "...                          ...          ...  \n",
       "41539                          0            0  \n",
       "41540                          0            0  \n",
       "41541                          0            0  \n",
       "41542                          0            0  \n",
       "41543                          0            0  \n",
       "\n",
       "[41544 rows x 8 columns]"
      ]
     },
     "execution_count": 19,
     "metadata": {},
     "output_type": "execute_result"
    }
   ],
   "source": [
    "df"
   ]
  },
  {
   "cell_type": "code",
   "execution_count": 20,
   "id": "b5ac657a-ff36-437e-b8c0-834be529bd00",
   "metadata": {
    "tags": []
   },
   "outputs": [
    {
     "ename": "KeyError",
     "evalue": "'no. of vehicle'",
     "output_type": "error",
     "traceback": [
      "\u001b[0;31m---------------------------------------------------------------------------\u001b[0m",
      "\u001b[0;31mKeyError\u001b[0m                                  Traceback (most recent call last)",
      "File \u001b[0;32m~/anaconda3/lib/python3.11/site-packages/pandas/core/indexes/base.py:3653\u001b[0m, in \u001b[0;36mIndex.get_loc\u001b[0;34m(self, key)\u001b[0m\n\u001b[1;32m   3652\u001b[0m \u001b[38;5;28;01mtry\u001b[39;00m:\n\u001b[0;32m-> 3653\u001b[0m     \u001b[38;5;28;01mreturn\u001b[39;00m \u001b[38;5;28mself\u001b[39m\u001b[38;5;241m.\u001b[39m_engine\u001b[38;5;241m.\u001b[39mget_loc(casted_key)\n\u001b[1;32m   3654\u001b[0m \u001b[38;5;28;01mexcept\u001b[39;00m \u001b[38;5;167;01mKeyError\u001b[39;00m \u001b[38;5;28;01mas\u001b[39;00m err:\n",
      "File \u001b[0;32m~/anaconda3/lib/python3.11/site-packages/pandas/_libs/index.pyx:147\u001b[0m, in \u001b[0;36mpandas._libs.index.IndexEngine.get_loc\u001b[0;34m()\u001b[0m\n",
      "File \u001b[0;32m~/anaconda3/lib/python3.11/site-packages/pandas/_libs/index.pyx:176\u001b[0m, in \u001b[0;36mpandas._libs.index.IndexEngine.get_loc\u001b[0;34m()\u001b[0m\n",
      "File \u001b[0;32mpandas/_libs/hashtable_class_helper.pxi:7080\u001b[0m, in \u001b[0;36mpandas._libs.hashtable.PyObjectHashTable.get_item\u001b[0;34m()\u001b[0m\n",
      "File \u001b[0;32mpandas/_libs/hashtable_class_helper.pxi:7088\u001b[0m, in \u001b[0;36mpandas._libs.hashtable.PyObjectHashTable.get_item\u001b[0;34m()\u001b[0m\n",
      "\u001b[0;31mKeyError\u001b[0m: 'no. of vehicle'",
      "\nThe above exception was the direct cause of the following exception:\n",
      "\u001b[0;31mKeyError\u001b[0m                                  Traceback (most recent call last)",
      "Cell \u001b[0;32mIn[20], line 1\u001b[0m\n\u001b[0;32m----> 1\u001b[0m percentageSlope, percentageIntercept \u001b[38;5;241m=\u001b[39m np\u001b[38;5;241m.\u001b[39mpolyfit(df[\u001b[38;5;124m'\u001b[39m\u001b[38;5;124mno. of vehicle\u001b[39m\u001b[38;5;124m'\u001b[39m], df[\u001b[38;5;124m'\u001b[39m\u001b[38;5;124mPercentage\u001b[39m\u001b[38;5;124m'\u001b[39m], deg \u001b[38;5;241m=\u001b[39m \u001b[38;5;241m1\u001b[39m)\n",
      "File \u001b[0;32m~/anaconda3/lib/python3.11/site-packages/pandas/core/frame.py:3761\u001b[0m, in \u001b[0;36mDataFrame.__getitem__\u001b[0;34m(self, key)\u001b[0m\n\u001b[1;32m   3759\u001b[0m \u001b[38;5;28;01mif\u001b[39;00m \u001b[38;5;28mself\u001b[39m\u001b[38;5;241m.\u001b[39mcolumns\u001b[38;5;241m.\u001b[39mnlevels \u001b[38;5;241m>\u001b[39m \u001b[38;5;241m1\u001b[39m:\n\u001b[1;32m   3760\u001b[0m     \u001b[38;5;28;01mreturn\u001b[39;00m \u001b[38;5;28mself\u001b[39m\u001b[38;5;241m.\u001b[39m_getitem_multilevel(key)\n\u001b[0;32m-> 3761\u001b[0m indexer \u001b[38;5;241m=\u001b[39m \u001b[38;5;28mself\u001b[39m\u001b[38;5;241m.\u001b[39mcolumns\u001b[38;5;241m.\u001b[39mget_loc(key)\n\u001b[1;32m   3762\u001b[0m \u001b[38;5;28;01mif\u001b[39;00m is_integer(indexer):\n\u001b[1;32m   3763\u001b[0m     indexer \u001b[38;5;241m=\u001b[39m [indexer]\n",
      "File \u001b[0;32m~/anaconda3/lib/python3.11/site-packages/pandas/core/indexes/base.py:3655\u001b[0m, in \u001b[0;36mIndex.get_loc\u001b[0;34m(self, key)\u001b[0m\n\u001b[1;32m   3653\u001b[0m     \u001b[38;5;28;01mreturn\u001b[39;00m \u001b[38;5;28mself\u001b[39m\u001b[38;5;241m.\u001b[39m_engine\u001b[38;5;241m.\u001b[39mget_loc(casted_key)\n\u001b[1;32m   3654\u001b[0m \u001b[38;5;28;01mexcept\u001b[39;00m \u001b[38;5;167;01mKeyError\u001b[39;00m \u001b[38;5;28;01mas\u001b[39;00m err:\n\u001b[0;32m-> 3655\u001b[0m     \u001b[38;5;28;01mraise\u001b[39;00m \u001b[38;5;167;01mKeyError\u001b[39;00m(key) \u001b[38;5;28;01mfrom\u001b[39;00m \u001b[38;5;21;01merr\u001b[39;00m\n\u001b[1;32m   3656\u001b[0m \u001b[38;5;28;01mexcept\u001b[39;00m \u001b[38;5;167;01mTypeError\u001b[39;00m:\n\u001b[1;32m   3657\u001b[0m     \u001b[38;5;66;03m# If we have a listlike key, _check_indexing_error will raise\u001b[39;00m\n\u001b[1;32m   3658\u001b[0m     \u001b[38;5;66;03m#  InvalidIndexError. Otherwise we fall through and re-raise\u001b[39;00m\n\u001b[1;32m   3659\u001b[0m     \u001b[38;5;66;03m#  the TypeError.\u001b[39;00m\n\u001b[1;32m   3660\u001b[0m     \u001b[38;5;28mself\u001b[39m\u001b[38;5;241m.\u001b[39m_check_indexing_error(key)\n",
      "\u001b[0;31mKeyError\u001b[0m: 'no. of vehicle'"
     ]
    }
   ],
   "source": [
    "percentageSlope, percentageIntercept = np.polyfit(df['no. of vehicle'], df['Percentage'], deg = 1)"
   ]
  },
  {
   "cell_type": "code",
   "execution_count": null,
   "id": "b61b77b6-595a-4cd2-8779-d96170067967",
   "metadata": {
    "tags": []
   },
   "outputs": [],
   "source": [
    "fig, ax = plt.subplots(figsize = (10, 6))\n",
    "\n",
    "x = np.arange(0, 1, 0.01)\n",
    "sns.boxplot(data = df, x = 'no. of vehicle', y = 'Percentage')\n",
    "#sns.scatterplot(data = df, x = '# of vehicle', y = 'Percentage')\n",
    "#sns.lineplot(x = x, y = percentageSlope * x + percentageIntercept, errorbar = None, color = 'black', ax = ax)"
   ]
  },
  {
   "cell_type": "code",
   "execution_count": null,
   "id": "b90c335f-7bbc-4931-a578-3a271e6e93b1",
   "metadata": {
    "tags": []
   },
   "outputs": [],
   "source": [
    "df.describe()"
   ]
  },
  {
   "cell_type": "code",
   "execution_count": null,
   "id": "06440e2b-71c5-4a9e-8fbe-0abd597115c7",
   "metadata": {
    "tags": []
   },
   "outputs": [],
   "source": [
    "zero = df[df['no. of vehicle'] == 0]['Percentage'].mean()\n",
    "one = df[df['no. of vehicle'] == 1]['Percentage'].mean()\n",
    "two = df[df['no. of vehicle'] == 2]['Percentage'].mean()\n",
    "three = df[df['no. of vehicle'] == 3]['Percentage'].mean()\n",
    "four = df[df['no. of vehicle'] == 4]['Percentage'].mean()\n",
    "five = df[df['no. of vehicle'] == 5]['Percentage'].mean()\n",
    "six = df[df['no. of vehicle'] == 6]['Percentage'].mean()\n",
    "seven = df[df['no. of vehicle'] == 7]['Percentage'].mean()\n",
    "eight = df[df['no. of vehicle'] == 8]['Percentage'].mean()"
   ]
  },
  {
   "cell_type": "code",
   "execution_count": null,
   "id": "2d038483-143e-42e3-b154-43d462c64666",
   "metadata": {},
   "outputs": [],
   "source": [
    "numberOfVehiclePercent = [zero, one, two, three, four, five, six, seven, eight]"
   ]
  },
  {
   "cell_type": "code",
   "execution_count": null,
   "id": "4761127c-5b66-46be-aca4-3a0578d88871",
   "metadata": {
    "tags": []
   },
   "outputs": [],
   "source": [
    "intercept, slope = np.polyfit(range(9), numberOfVehiclePercent, deg = 1)"
   ]
  },
  {
   "cell_type": "code",
   "execution_count": null,
   "id": "f2feb838-feaf-4cc4-bfdd-f5ebbac4163c",
   "metadata": {
    "tags": []
   },
   "outputs": [],
   "source": [
    "fig, ax = plt.subplots(figsize = (10, 6))\n",
    "x = np.arange(0, 9, 1)\n",
    "sns.lineplot(x = x, y = slope * x + intercept, color = 'black', ax = ax)\n",
    "sns.scatterplot(x = range(9), y = numberOfVehiclePercent)"
   ]
  },
  {
   "cell_type": "code",
   "execution_count": null,
   "id": "2dde2548-29ee-4744-abe3-badaa5b4c4f6",
   "metadata": {
    "tags": []
   },
   "outputs": [],
   "source": [
    "eight"
   ]
  },
  {
   "cell_type": "code",
   "execution_count": null,
   "id": "91803823-732b-4fff-94ee-d68ab9256c7a",
   "metadata": {
    "tags": []
   },
   "outputs": [],
   "source": [
    "intercept"
   ]
  },
  {
   "cell_type": "code",
   "execution_count": null,
   "id": "6157f0cf-f91f-43e3-999d-26239706ccd6",
   "metadata": {
    "tags": []
   },
   "outputs": [],
   "source": [
    "slope"
   ]
  },
  {
   "cell_type": "code",
   "execution_count": null,
   "id": "6305405f-d85c-47b8-a369-dd7f5cf80e27",
   "metadata": {
    "tags": []
   },
   "outputs": [],
   "source": [
    "for i in range(9):\n",
    "    print(slope * i + intercept)"
   ]
  },
  {
   "cell_type": "code",
   "execution_count": null,
   "id": "8c172dfd",
   "metadata": {},
   "outputs": [],
   "source": [
    "from datascience import Table\n",
    "import numpy as np\n",
    "import matplotlib.pyplot as plots\n",
    "import scipy as sp\n",
    "%matplotlib inline\n",
    "import statsmodels.formula.api as smf\n",
    "plots.style.use('fivethirtyeight')"
   ]
  },
  {
   "cell_type": "code",
   "execution_count": null,
   "id": "7a68831d-67fd-4225-b701-7823799e7e80",
   "metadata": {},
   "outputs": [],
   "source": [
    "mod = smf.ols(formula='Percentage ~ numbvehicle', data=df)     #binago ko yung # of vehicle to numbvehicle di ko kasi ma code\n",
    "res = mod.fit()\n",
    "print(res.summary())"
   ]
  },
  {
   "cell_type": "markdown",
   "id": "b7f18d1c",
   "metadata": {},
   "source": [
    "__Percentage and number of vehicle on all region__\n",
    "\n",
    "the model explains 3.2% of the variance. It's a low value, suggesting that the model might not fit the data well.  \n",
    "the F-statistic is 1357, and the p-value is very close to zero (2.71e-292), indicating the model is statistically significant.  \n",
    "The intercept is 4.1004. when the independent variable(s) is zero, the predicted value of the dependent variable is 4.1004.  \n",
    "The coefficient for this variable is 0.9950 which means for each unit increase in the number of vehicles, the predicted value of the dependent variable (Percentage) increases by 0.9950.  \n",
    "the p-values are very close to zero both the intercept and the number of vehicles are statistically significant.\n"
   ]
  },
  {
   "cell_type": "code",
   "execution_count": null,
   "id": "224c7c1a",
   "metadata": {},
   "outputs": [],
   "source": [
    "df"
   ]
  },
  {
   "cell_type": "code",
   "execution_count": null,
   "id": "1c5b7ef4",
   "metadata": {},
   "outputs": [],
   "source": [
    "regions = df['Island'].unique()\n",
    "\n",
    "for region in regions:\n",
    "    # Subset the DataFrame for the current region\n",
    "    df_Island = df[df['Island'] == region]\n",
    "\n",
    "    # Run OLS regression for the current region\n",
    "    mod = smf.ols(formula='Percentage ~ numbvehicle', data=df_Island)     \n",
    "    res = mod.fit()\n",
    "\n",
    "    # Print the summary for the current region\n",
    "    print(f\"Regression Summary for {region}:\\n{res.summary()}\\n\")"
   ]
  },
  {
   "cell_type": "code",
   "execution_count": null,
   "id": "34359c71",
   "metadata": {
    "tags": []
   },
   "outputs": [],
   "source": [
    "df"
   ]
  },
  {
   "cell_type": "code",
   "execution_count": null,
   "id": "7e27970f-5eea-4265-8f0f-12fab21eb51f",
   "metadata": {},
   "outputs": [],
   "source": []
  },
  {
   "cell_type": "code",
   "execution_count": null,
   "id": "48177ccf-ea95-4a4b-a8f5-e27dbbe30136",
   "metadata": {},
   "outputs": [],
   "source": []
  }
 ],
 "metadata": {
  "kernelspec": {
   "display_name": "Python 3 (ipykernel)",
   "language": "python",
   "name": "python3"
  },
  "language_info": {
   "codemirror_mode": {
    "name": "ipython",
    "version": 3
   },
   "file_extension": ".py",
   "mimetype": "text/x-python",
   "name": "python",
   "nbconvert_exporter": "python",
   "pygments_lexer": "ipython3",
   "version": "3.11.5"
  }
 },
 "nbformat": 4,
 "nbformat_minor": 5
}
